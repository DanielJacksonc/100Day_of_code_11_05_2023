{
 "cells": [
  {
   "cell_type": "code",
   "execution_count": 1,
   "id": "7607fa87",
   "metadata": {},
   "outputs": [],
   "source": [
    "import os\n",
    "\n",
    "def clear_screen():\n",
    "    # Clear the screen based on the operating system\n",
    "    if os.name == 'nt':  # For Windows\n",
    "        os.system('cls')\n",
    "  "
   ]
  },
  {
   "cell_type": "code",
   "execution_count": 2,
   "id": "cc0c4fef",
   "metadata": {},
   "outputs": [],
   "source": [
    "name = {\"Emeka\":10, \"Goodluck\": 30}"
   ]
  },
  {
   "cell_type": "code",
   "execution_count": 3,
   "id": "fdcf7f6b",
   "metadata": {},
   "outputs": [],
   "source": [
    "name[\"ada\"] = {\"glory\": 30, \"Victorai\":60}"
   ]
  },
  {
   "cell_type": "code",
   "execution_count": 4,
   "id": "5a59eba7",
   "metadata": {},
   "outputs": [
    {
     "data": {
      "text/plain": [
       "{'Emeka': 10, 'Goodluck': 30, 'ada': {'glory': 30, 'Victorai': 60}}"
      ]
     },
     "execution_count": 4,
     "metadata": {},
     "output_type": "execute_result"
    }
   ],
   "source": [
    "name"
   ]
  },
  {
   "cell_type": "code",
   "execution_count": 5,
   "id": "6b84da0b",
   "metadata": {},
   "outputs": [],
   "source": [
    "name[\"ada\"][\"glory\"] = {\"dan\":34}"
   ]
  },
  {
   "cell_type": "code",
   "execution_count": null,
   "id": "94b89605",
   "metadata": {},
   "outputs": [],
   "source": []
  },
  {
   "cell_type": "code",
   "execution_count": 7,
   "id": "76a0adca",
   "metadata": {},
   "outputs": [
    {
     "name": "stdout",
     "output_type": "stream",
     "text": [
      "what is your name: danie\n",
      "How much do yo wan to bid? $3456\n",
      "Are there any other bidders? y or n y\n",
      "what is your name: geuye\n",
      "How much do yo wan to bid? $578\n",
      "Are there any other bidders? y or n n\n",
      " The winner of the bid is danie with bidding price of $3456\n"
     ]
    }
   ],
   "source": [
    "\n",
    "bid = {}            \n",
    "bid_state = False\n",
    "def highest_bid(highest_bider):\n",
    "    best_bid = 0\n",
    "    winner = ''\n",
    "    #highest_bider = {'danie': 100, \"neche\":300}\n",
    "    for bidder in highest_bider:\n",
    "        amount = highest_bider[bidder]\n",
    "        if amount > best_bid:\n",
    "            best_bid = amount\n",
    "            #we want to know the name of the name of the highest bid\n",
    "            winner = bidder\n",
    "    print(f\" The winner of the bid is {winner} with bidding price of ${best_bid}\")\n",
    "    \n",
    "while not bid_state:\n",
    "\n",
    "    \n",
    "    name = input(\"what is your name: \")\n",
    "    price = int(input(\"How much do yo wan to bid? $\"))\n",
    "\n",
    "    #we pass it into the dictionary \n",
    "    bid[name] = price\n",
    "    bid_continue = input(\"Are there any other bidders? y or n \")\n",
    "    if bid_continue == 'n':\n",
    "        bid_state = True\n",
    "        highest_bid(bid)\n",
    "        \n",
    "    #elif bid_continue == \"y\":\n",
    "        \n",
    "\n",
    "\n",
    "\n"
   ]
  },
  {
   "cell_type": "code",
   "execution_count": null,
   "id": "366dae0d",
   "metadata": {},
   "outputs": [],
   "source": []
  }
 ],
 "metadata": {
  "kernelspec": {
   "display_name": "Python 3 (ipykernel)",
   "language": "python",
   "name": "python3"
  },
  "language_info": {
   "codemirror_mode": {
    "name": "ipython",
    "version": 3
   },
   "file_extension": ".py",
   "mimetype": "text/x-python",
   "name": "python",
   "nbconvert_exporter": "python",
   "pygments_lexer": "ipython3",
   "version": "3.9.13"
  }
 },
 "nbformat": 4,
 "nbformat_minor": 5
}
