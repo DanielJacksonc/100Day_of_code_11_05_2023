{
 "cells": [
  {
   "cell_type": "code",
   "execution_count": 4,
   "id": "b0e9fe7f",
   "metadata": {},
   "outputs": [],
   "source": [
    "############DEBUGGING#####################\n",
    "\n",
    "# Describe Problem\n",
    "# def my_function():\n",
    "#      for i in range(1, 21):\n",
    "        \n",
    "#         #if i == 20:------we are trying to debug this\n",
    "#         if i == 20: #debugged line, we increase the range to 21\n",
    "#             print(\"You got it\")\n",
    "# my_function()\n",
    "########################################################## we want to debug the above code, the proble is that i never reached zo\n",
    "\n",
    "# # Reproduce the Bug\n",
    "# from random import randint\n",
    "# dice_imgs = [\"❶\", \"❷\", \"❸\", \"❹\", \"❺\", \"❻\"]\n",
    "# dice_num = randint(1, 5) #dice_num = randint(1, 6)-----old verison\n",
    "# print(dice_imgs[dice_num])\n",
    "\n",
    "# # Play Computer\n",
    "# year = int(input(\"What's your year of birth?\"))\n",
    "# if year >= 1980 and year < 1994:\n",
    "#   print(\"You are a millenial.\")\n",
    "# elif year >= 1994:\n",
    "#   print(\"You are a Gen Z.\")####### This should consider the = sign\n",
    "\n",
    "# # # Fix the Errors\n",
    "# age = input(\"How old are you?\") #old code\n",
    "# age = int(input(\"How old are you?\"))# fixed code---------\n",
    "# if age > 18:\n",
    "#     print(f\"You can drive at age {age}.\")\n",
    "\n",
    "# #Print is Your Friend\n",
    "# pages = 0\n",
    "# word_per_page = 0\n",
    "# pages = int(input(\"Number of pages: \"))\n",
    "# word_per_page == int(input(\"Number of words per page: \"))#old code\n",
    "# word_per_page = int(input(\"Number of words per page: \"))#resolved word\n",
    "# total_words = pages * word_per_page\n",
    "# print(total_words)\n",
    "\n",
    "# #Use a Debugger\n",
    "# def mutate(a_list):\n",
    "    \n",
    "#     b_list = []\n",
    "#     for item in a_list:\n",
    "#         new_item = item * 2\n",
    "#         b_list.append(new_item) #corrected code----------------------------\n",
    "#     #b_list.append(new_item)#old code\n",
    "#     print(b_list)\n",
    "\n",
    "# mutate([1,2,3,5,8,13])"
   ]
  },
  {
   "cell_type": "code",
   "execution_count": 5,
   "id": "ed531abf",
   "metadata": {},
   "outputs": [],
   "source": [
    "#exercise\n",
    "\n",
    "#Note:  = is checking for assignment , == checks for quality\n",
    "\n",
    "# number = int(input(\"Which number do you want to check?\"))\n",
    "\n",
    "# if number % 2 == 0:\n",
    "#     print(\"This is an even number.\")\n",
    "# else:\n",
    "#     print(\"This is an odd number.\")"
   ]
  },
  {
   "cell_type": "code",
   "execution_count": null,
   "id": "9f68b5db",
   "metadata": {},
   "outputs": [],
   "source": []
  }
 ],
 "metadata": {
  "kernelspec": {
   "display_name": "Python 3 (ipykernel)",
   "language": "python",
   "name": "python3"
  },
  "language_info": {
   "codemirror_mode": {
    "name": "ipython",
    "version": 3
   },
   "file_extension": ".py",
   "mimetype": "text/x-python",
   "name": "python",
   "nbconvert_exporter": "python",
   "pygments_lexer": "ipython3",
   "version": "3.9.13"
  }
 },
 "nbformat": 4,
 "nbformat_minor": 5
}
