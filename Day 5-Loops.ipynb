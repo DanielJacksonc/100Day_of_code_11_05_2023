{
 "cells": [
  {
   "cell_type": "code",
   "execution_count": 3,
   "id": "1ba5e2f2",
   "metadata": {},
   "outputs": [],
   "source": [
    "#We will learn:\n",
    "#Loops : This is repeating things\n",
    "\n",
    "fruits = ['apple', 'Peach', 'Pear']"
   ]
  },
  {
   "cell_type": "code",
   "execution_count": 21,
   "id": "3964d5e1",
   "metadata": {},
   "outputs": [
    {
     "name": "stdout",
     "output_type": "stream",
     "text": [
      "apple\n",
      "Peach\n",
      "Pear\n",
      "['apple', 'Peach', 'Pear']\n"
     ]
    }
   ],
   "source": [
    "for i in fruits:\n",
    "    print(i)\n",
    "print(fruits)"
   ]
  },
  {
   "cell_type": "code",
   "execution_count": 51,
   "id": "9b836c42",
   "metadata": {},
   "outputs": [
    {
     "name": "stdout",
     "output_type": "stream",
     "text": [
      "5050\n"
     ]
    }
   ],
   "source": [
    "add = 0 \n",
    "for i in range(0, 101):\n",
    "    add+=i\n",
    "    \n",
    "print(add)"
   ]
  },
  {
   "cell_type": "code",
   "execution_count": 61,
   "id": "940d3305",
   "metadata": {},
   "outputs": [
    {
     "name": "stdout",
     "output_type": "stream",
     "text": [
      " Please provide number10\n",
      "30\n"
     ]
    }
   ],
   "source": [
    "target = int(input(' Please provide number'))\n",
    "\n",
    "sum_ = 0\n",
    "\n",
    "for num in range(0, target +1):\n",
    "    if num%2 ==0:\n",
    "        sum_+=num\n",
    "print(sum_)"
   ]
  },
  {
   "cell_type": "code",
   "execution_count": 79,
   "id": "4061a551",
   "metadata": {},
   "outputs": [
    {
     "name": "stdout",
     "output_type": "stream",
     "text": [
      "1\n",
      "2\n",
      "Fizz\n",
      "4\n",
      "Buzz\n",
      "Fizz\n",
      "7\n",
      "8\n",
      "Fizz\n",
      "Buzz\n",
      "11\n",
      "Fizz\n",
      "13\n",
      "14\n",
      "FuzzBuzz\n",
      "16\n",
      "17\n",
      "Fizz\n",
      "19\n",
      "Buzz\n",
      "Fizz\n",
      "22\n",
      "23\n",
      "Fizz\n",
      "Buzz\n",
      "26\n",
      "Fizz\n",
      "28\n",
      "29\n",
      "FuzzBuzz\n",
      "31\n",
      "32\n",
      "Fizz\n",
      "34\n",
      "Buzz\n",
      "Fizz\n",
      "37\n",
      "38\n",
      "Fizz\n",
      "Buzz\n",
      "41\n",
      "Fizz\n",
      "43\n",
      "44\n",
      "FuzzBuzz\n",
      "46\n",
      "47\n",
      "Fizz\n",
      "49\n",
      "Buzz\n",
      "Fizz\n",
      "52\n",
      "53\n",
      "Fizz\n",
      "Buzz\n",
      "56\n",
      "Fizz\n",
      "58\n",
      "59\n",
      "FuzzBuzz\n",
      "61\n",
      "62\n",
      "Fizz\n",
      "64\n",
      "Buzz\n",
      "Fizz\n",
      "67\n",
      "68\n",
      "Fizz\n",
      "Buzz\n",
      "71\n",
      "Fizz\n",
      "73\n",
      "74\n",
      "FuzzBuzz\n",
      "76\n",
      "77\n",
      "Fizz\n",
      "79\n",
      "Buzz\n",
      "Fizz\n",
      "82\n",
      "83\n",
      "Fizz\n",
      "Buzz\n",
      "86\n",
      "Fizz\n",
      "88\n",
      "89\n",
      "FuzzBuzz\n",
      "91\n",
      "92\n",
      "Fizz\n",
      "94\n",
      "Buzz\n",
      "Fizz\n",
      "97\n",
      "98\n",
      "Fizz\n",
      "Buzz\n"
     ]
    }
   ],
   "source": [
    "#fiz buzz game\n",
    "target = 100\n",
    "for i in range(1, 101):\n",
    "    if i % 3==0 and i % 5==0:\n",
    "        print('FuzzBuzz')\n",
    "    elif i%3 == 0:\n",
    "        print('Fizz')\n",
    "    \n",
    "    elif i % 5 == 0 :\n",
    "        print('Buzz')\n",
    "    else:\n",
    "        print(i)\n",
    "    \n",
    "   \n",
    "   \n",
    "    \n",
    "        "
   ]
  },
  {
   "cell_type": "code",
   "execution_count": null,
   "id": "e885ad50",
   "metadata": {},
   "outputs": [],
   "source": []
  }
 ],
 "metadata": {
  "kernelspec": {
   "display_name": "Python 3 (ipykernel)",
   "language": "python",
   "name": "python3"
  },
  "language_info": {
   "codemirror_mode": {
    "name": "ipython",
    "version": 3
   },
   "file_extension": ".py",
   "mimetype": "text/x-python",
   "name": "python",
   "nbconvert_exporter": "python",
   "pygments_lexer": "ipython3",
   "version": "3.9.13"
  }
 },
 "nbformat": 4,
 "nbformat_minor": 5
}
