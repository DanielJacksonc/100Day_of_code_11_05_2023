{
 "cells": [
  {
   "cell_type": "markdown",
   "id": "f289ba5f",
   "metadata": {},
   "source": [
    "###### we will build silent auction program. Here everybody bids silently and it appears when the auction is done.\n",
    "\n",
    "#Dictionaries\n",
    "\n",
    "#Nesting\n",
    "\n",
    "## DICTIONARIES\n",
    "\n",
    "Try to make your dictionary very beautiful.\n",
    "\n"
   ]
  },
  {
   "cell_type": "code",
   "execution_count": 1,
   "id": "68ba22dd",
   "metadata": {},
   "outputs": [],
   "source": [
    "programming_dictionary = {\n",
    "    \"Bug\": \"An error in a program that prevents the program from running as expected.\",\n",
    "    \"Function\": \"A piece of code that you can easily call over and over again.\",\n",
    "}"
   ]
  },
  {
   "cell_type": "code",
   "execution_count": 2,
   "id": "cf490ad4",
   "metadata": {},
   "outputs": [
    {
     "data": {
      "text/plain": [
       "{'Bug': 'An error in a program that prevents the program from running as expected.',\n",
       " 'Function': 'A piece of code that you can easily call over and over again.',\n",
       " 'Dan': 'This boy is doing very good'}"
      ]
     },
     "execution_count": 2,
     "metadata": {},
     "output_type": "execute_result"
    }
   ],
   "source": [
    "#to add \n",
    "programming_dictionary['Dan'] = \"This boy is doing very good\"\n",
    "programming_dictionary\n"
   ]
  },
  {
   "cell_type": "code",
   "execution_count": 3,
   "id": "1d4ee791",
   "metadata": {},
   "outputs": [],
   "source": [
    "programming_dictionary = {} #to wipe the dictionary"
   ]
  },
  {
   "cell_type": "code",
   "execution_count": 4,
   "id": "25b6c2b3",
   "metadata": {},
   "outputs": [
    {
     "data": {
      "text/plain": [
       "{}"
      ]
     },
     "execution_count": 4,
     "metadata": {},
     "output_type": "execute_result"
    }
   ],
   "source": [
    "programming_dictionary"
   ]
  },
  {
   "cell_type": "code",
   "execution_count": 5,
   "id": "1c7eebed",
   "metadata": {},
   "outputs": [],
   "source": [
    "#to edit \n",
    "programming_dictionary[\"bug\"] = \" This is the very thing i am talkimh about\""
   ]
  },
  {
   "cell_type": "code",
   "execution_count": 6,
   "id": "fe855a42",
   "metadata": {},
   "outputs": [
    {
     "data": {
      "text/plain": [
       "{'bug': ' This is the very thing i am talkimh about'}"
      ]
     },
     "execution_count": 6,
     "metadata": {},
     "output_type": "execute_result"
    }
   ],
   "source": [
    "programming_dictionary"
   ]
  },
  {
   "cell_type": "code",
   "execution_count": 7,
   "id": "9ae3dc78",
   "metadata": {},
   "outputs": [],
   "source": [
    "programming_dictionary = {\n",
    "    \"Bug\": \"An error in a program that prevents the program from running as expected.\",\n",
    "    \"Function\": \"A piece of code that you can easily call over and over again.\",\n",
    "}"
   ]
  },
  {
   "cell_type": "code",
   "execution_count": 8,
   "id": "d62f78f4",
   "metadata": {},
   "outputs": [],
   "source": [
    "A = programming_dictionary['Function']\n"
   ]
  },
  {
   "cell_type": "markdown",
   "id": "6c4d9e45",
   "metadata": {},
   "source": [
    "### excercise"
   ]
  },
  {
   "cell_type": "code",
   "execution_count": 9,
   "id": "ae26892c",
   "metadata": {},
   "outputs": [
    {
     "name": "stdout",
     "output_type": "stream",
     "text": [
      "Harry :Exceeds Expectation, Ron :Acceptable, Hermione :Outstanding, Draco :Acceptable, Neville :Fail, "
     ]
    }
   ],
   "source": [
    "#You have acces to a database of a student_scores in the foramt of a distionary scores. Write a program that converts their scores to grades\n",
    "\n",
    "student_scores = {\n",
    "    \"Harry\": 81,\n",
    "    \"Ron\": 78,\n",
    "    \"Hermione\": 99,\n",
    "    \"Draco\":74,\n",
    "    \"Neville\":62,\n",
    "}\n",
    "\n",
    "student_grade = {}\n",
    "\n",
    "for keys,values in student_scores.items():\n",
    "    if values < 70:\n",
    "        student_grade = (f'{keys} :Fail, ')\n",
    "    elif values in range(71, 80):\n",
    "        student_grade= (f'{keys} :Acceptable, ')\n",
    "    elif values in range(81, 90):\n",
    "        student_grade=(f'{keys} :Exceeds Expectation, ')\n",
    "    elif values in range(91, 100):\n",
    "        student_grade=(f'{keys} :Outstanding, ')\n",
    "    print(student_grade, end = '')\n",
    "    \n",
    "\n",
    "\n",
    "\n",
    "        \n"
   ]
  },
  {
   "cell_type": "markdown",
   "id": "3b4ba312",
   "metadata": {},
   "source": [
    "## or"
   ]
  },
  {
   "cell_type": "code",
   "execution_count": 10,
   "id": "3180eea8",
   "metadata": {},
   "outputs": [
    {
     "name": "stdout",
     "output_type": "stream",
     "text": [
      "{'Harry': 'Exceeds Expectation', 'Ron': 'Acceptable', 'Hermione': 'outstanding', 'Draco': 'Acceptable', 'Neville': 'Fail'}\n"
     ]
    }
   ],
   "source": [
    "\n",
    "student_scores = {\n",
    "    \"Harry\": 81,\n",
    "    \"Ron\": 78,\n",
    "    \"Hermione\": 99,\n",
    "    \"Draco\":74,\n",
    "    \"Neville\":62,\n",
    "}\n",
    "\n",
    "student_grade = {}\n",
    "\n",
    "for student in student_scores:\n",
    "    score = student_scores[student] \n",
    "    if score > 90:\n",
    "        student_grade[student] = 'outstanding'\n",
    "    elif score > 80:\n",
    "        student_grade[student] = 'Exceeds Expectation'\n",
    "    elif score > 70:\n",
    "        student_grade[student] = 'Acceptable'\n",
    "    else:\n",
    "        student_grade[student] = 'Fail'\n",
    "        \n",
    "print(student_grade)"
   ]
  },
  {
   "cell_type": "markdown",
   "id": "88f970b2",
   "metadata": {},
   "source": [
    "#### Exercise 1\n",
    "\n"
   ]
  },
  {
   "cell_type": "code",
   "execution_count": null,
   "id": "dfc9062f",
   "metadata": {},
   "outputs": [],
   "source": [
    "# write a function that will allow new countries to be added to the travel_log.\n",
    "\n",
    "\n",
    "country = input(\"Please input country\")\n",
    "visits = int(input(\"Please input no of Visits\"))\n",
    "list_of_cities = eval(input(\"Please input list of cities\"))\n",
    "\n",
    "travel_log = [\n",
    "    {\n",
    "        \"country\": \"France\",\n",
    "        \"vists\":12,\n",
    "        \"cities\":[\"paris\", \"Little\", \"Dijon\"]\n",
    "    },\n",
    "    {\n",
    "       \"country\": \"Germany\",\n",
    "        \"visits\": 5,\n",
    "        \"cities\": [\"Berlin\", \"Hamburg\", \"Stuttgart\"]    \n",
    "        \n",
    "    },\n",
    "         \n",
    "]\n",
    "\n",
    "def add_new_country(countries_name,visits_no, list_of_cities_visited):\n",
    "    \n",
    "        new_country = {}\n",
    "        new_country [\"country\"] = countries_name\n",
    "        new_country [\"visits\"] = visits_no\n",
    "        new_country [\"list_of_cities\"] = list_of_cities_visited\n",
    "        travel_log.append(new_country)\n",
    "add_new_country(country, visits, list_of_cities)\n",
    "print(f\"i have been to {travel_log[2]['country']}{travel_log[2]['visits']} times.\" )\n",
    "print(f\"My favorite city was {travel_log[2]['cities'][0]}.\")\n",
    "\n"
   ]
  },
  {
   "cell_type": "markdown",
   "id": "4c197ef8",
   "metadata": {},
   "source": [
    "### Write a program that does hidden auction."
   ]
  },
  {
   "cell_type": "code",
   "execution_count": null,
   "id": "765dbcea",
   "metadata": {},
   "outputs": [],
   "source": [
    "\n",
    "bidder_detail = {} #2\n",
    "cont_bidding = True#3\n",
    "\n",
    "    \n",
    "def best_bider(H_bidder):#5\n",
    "    best_bid = 0\n",
    "    winner = ''#9\n",
    "    #6. lets assume our h_bidder has a dictionary like this h_bidder = {\"Dan\": 100, \"Emeka\":2345}, we therefor say in\n",
    "    for bidder in H_bidder:\n",
    "        #7 nwe want to capture who our bidders amount using h_bidder[bidder] and iterate all\n",
    "        amount = H_bidder[bidder]# 7\n",
    "        #8 using IF statement, we need to find the amount of  the highest bidder, we assign an empty dicyionary to hold them called best_bidder\n",
    "        if amount > best_bid:\n",
    "            best_bid = amount\n",
    "            #9 we want to find the name of the best bidder thats the winner, we open an empty string to capture it \n",
    "            winner = bidder\n",
    "            # 10 we print our winner and the amount\n",
    "            \n",
    "    print(f\"\\nThe winner of the bid is {winner} and the amount is $ {best_bid}\")\n",
    "    \n",
    "while cont_bidding:#3\n",
    "\n",
    "\n",
    "    \n",
    "    \n",
    "\n",
    "    \n",
    "#1. we start by getting the details and amout our a bider   \n",
    "    name = input(\"Provide your name here: \\n\")# 1\n",
    "    price = int(input(\"Provide the amount you want to bid here: \\n\"))#make it an integer to avoid error\n",
    "    bidder_detail[name] = price # we asign the key and values. if you dont do this, it wil not return anything fir you.\n",
    "    \n",
    "    #4 we need to ask then whe to stop, so we ask them if yes or no. and assign it to bid_question\n",
    "    bid_question = input(\"Do you want to continue bidding? Yes or No \\n\").lower()#4\n",
    "    if bid_question == \"no\":\n",
    "        cont_bidding = False\n",
    "        #11 we call our function here and pass in the bidder detail in #2\n",
    "        best_bider(bidder_detail)\n",
    "    \n",
    "    \n",
    "\n",
    "#2. we want to be able to store their inputs in an empty dcitionary called bidder_details\n",
    "\n",
    "#3 We want to be able to ask them if they are still bidiing/. we will use While loop to continues, first assign a variable\n",
    "\n",
    "#5. We want to calculate the winner, we have to create a function\n",
    "\n",
    "\n",
    "\n",
    "\n",
    "\n",
    "\n"
   ]
  }
 ],
 "metadata": {
  "kernelspec": {
   "display_name": "Python 3 (ipykernel)",
   "language": "python",
   "name": "python3"
  },
  "language_info": {
   "codemirror_mode": {
    "name": "ipython",
    "version": 3
   },
   "file_extension": ".py",
   "mimetype": "text/x-python",
   "name": "python",
   "nbconvert_exporter": "python",
   "pygments_lexer": "ipython3",
   "version": "3.9.13"
  }
 },
 "nbformat": 4,
 "nbformat_minor": 5
}
