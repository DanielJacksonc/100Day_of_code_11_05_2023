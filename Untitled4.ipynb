{
 "cells": [
  {
   "cell_type": "code",
   "execution_count": 1,
   "id": "a5517001",
   "metadata": {
    "scrolled": true
   },
   "outputs": [],
   "source": [
    "\n",
    "# import random \n",
    "\n",
    "\n",
    "# print(\"welcome to the Number Guessing Game.\\n\")\n",
    "\n",
    "# print(\"I am Thinking of a number between 1 and 100......\\n\")\n",
    "\n",
    "# number = list(range(1,101))\n",
    "\n",
    "# randome = random.choice(number)\n",
    "\n",
    "\n",
    "# game_continue = True\n",
    "\n",
    "    \n",
    "    \n",
    " \n",
    "        \n",
    "# def play_game () : \n",
    "\n",
    "#     game_level = input(\"Choose a difficulty. Type 'easy ' or 'hard' \").lower()\n",
    "#     if game_level == 'hard':\n",
    "#             hard_level = 5\n",
    "#             easy_level = 10 \n",
    "\n",
    "#             print(\"You have 5 attempts remaining to guess the number\")\n",
    "#             make_guess = int(input(\"Make a Guess\"))\n",
    "#             if make_guess == randome:\n",
    "#                 game_continue = False\n",
    "#                 print(f\" You guessed right, the answer is {randome}\")\n",
    "#                 if input(\"Do you want to play agaiin? Y or N\").lower() == \"Y\":\n",
    "#                     play_game()\n",
    "#                 else:\n",
    "#                     print(\"This is the end of the game, Bye\")\n",
    "#             elif make_guess < randome:\n",
    "\n",
    "#                 hard_level -=1\n",
    "#                 print(\"Too low\")\n",
    "#                 print(f\"current life is {hard_level}\")\n",
    "# #                 make_guess = int(input(\"Make a Guess\"))\n",
    "#             elif make_guess > randome:\n",
    "\n",
    "#                 hard_level -=1\n",
    "#                 print(\"Too high\")\n",
    "#                 print(f\"current life is {hard_leve}\")\n",
    "#                 make_guess = int(input(\"Make a Guess\"))\n",
    "#                 print(f\" you lost 1 life, Your current life balance is {randome}\")\n",
    "\n",
    "\n",
    "#     elif game_level == 'easy':\n",
    "#             print(\"You have 10 attempts remaining to guess the number\")\n",
    "#             make_guess = int(input(\"Make a Guess\"))\n",
    "#             if make_guess == randome:\n",
    "#                 game_continue = False\n",
    "#                 print(f\" You guessed right, the answer is {randome}\")\n",
    "#                 if input(\"Do you want to play again? Y or N\").lower() == \"Y\":\n",
    "#                     play_game()\n",
    "#                 else:\n",
    "#                     print(\"This is the end of the game, Bye\")\n",
    "#             elif make_guess < randome:\n",
    "\n",
    "#                 easy_level -=1\n",
    "#                 print(\"Too low, your \")\n",
    "#                 print(f\"current life is {easy_level}\")\n",
    "#                 make_guess = int(input(\"Make a Guess\"))\n",
    "#             elif make_guess > randome:\n",
    "\n",
    "#                 easy_level -=1\n",
    "#                 print(\"Too high\")\n",
    "#                 print(f\"current life is {easy_level}\")\n",
    "#                 make_guess = int(input(\"Make a Guess\"))\n",
    "#                 print(f\" you lost 1 life, Your current life balance is {randome}\")\n",
    "# while game_continue:\n",
    "#     if input(\"Do you want to continue playing y or no\").lower != \"y\":\n",
    "#         game_continue = False\n",
    "#         print(\"end of Game\")\n",
    "        \n",
    "#     else:\n",
    "        \n",
    "#         play_game ()\n",
    "     \n",
    "\n",
    "\n",
    "    "
   ]
  },
  {
   "cell_type": "code",
   "execution_count": 2,
   "id": "c3f6c3d5",
   "metadata": {},
   "outputs": [],
   "source": [
    "# import time \n",
    "\n",
    "# def kingdom():\n",
    "#     print (\"In the mystical kingdom of Eldoria, a young adventurer named Oliver\")\n",
    "   \n",
    "#     time.sleep(2)\n",
    "    \n",
    "# def act():\n",
    "#     print(\" Oliver received a mysterious message foretelling the location of the long-lost Crown of Lumaria\")\n",
    "#     time.sleep(1)\n",
    "# def why():\n",
    "#     print(\"Legends say that whoever possesses this crown gains the power to bring prosperity to the entire realm.\")\n",
    "\n",
    "# def journey():\n",
    "#     print(\"Oliver embarked on a perilous journey through dense forests, crossed treacherous rivers,and climbed towering mountains\")\n",
    "# def wizard():\n",
    "#     print(\"Along the way, he encountered wise wizards, mischievous forest spirits, and helpful creatures who provided guidance.\")\n",
    "    \n",
    "# def main():\n",
    "#     kingdom()\n",
    "#     act()\n",
    "#     why()\n",
    "#     journey()\n",
    "#     wizard()\n",
    "    \n",
    "    \n",
    "# if __name__  == \"__main__\":\n",
    "    \n",
    "    \n",
    "    \n",
    "#     main()"
   ]
  },
  {
   "cell_type": "code",
   "execution_count": 17,
   "id": "b9735d69",
   "metadata": {},
   "outputs": [
    {
     "name": "stdout",
     "output_type": "stream",
     "text": [
      "In the peaceful village of Eldioria, Emily, a curious young girl og 13 yeas old, decided to venture in search of a treasure\n",
      "\n",
      " she discovered a vertoc  translucent map, in the Hidden and over looked  of the village. The vertoc  translucent map has some features like Underestimated and negleted\n",
      "\n",
      "While she was successful, it was not with out trouble, the landscapes were unindeneted and hilly, she Faced challenges, was beaten and wounded by serpent, but she met good companies of people from South Korea and mecca  which made her journey even smooter\n",
      "\n",
      "While she was talking, a  Beautiful, glassyu and emeald object, gazed at her, she was so excited and fulfilled , this also has sounds like winky and glassy like sound\n",
      "\n",
      "She saw weird and silly looking creatures, after the encounter, she had supper powers, she could use the powers for  Healing, restoration or even fight his enemies, and the  of the charm is it was worth it\n",
      "\n",
      " This story would not be enough because she learnetThat perseverance is a virtue, she also brought back Beautiful and shinny figures, all villagers welcomed her with songs of Joy and gladness\n",
      "\n"
     ]
    }
   ],
   "source": [
    "import time\n",
    "\n",
    "def intro(village, characters, age):\n",
    "    print(f\"In the peaceful village of {village}, {characters}, a curious young girl og {age} yeas old, decided to venture in search of a treasure\\n\")\n",
    "    time.sleep(2)\n",
    "def _map(type_, location, mystical_symbol ):\n",
    "    print(f\" she discovered a {type_} map, in the {location} of the village. The {type_} map has some features like {mystical_symbol}\\n\")\n",
    "    time.sleep(2)\n",
    "def journey(landscapes, challenges, companies):\n",
    "    print(f\"While she was successful, it was not with out trouble, the landscapes were {landscapes}, she {challenges}, but she met good companies of people from {companies}  which made her journey even smooter\\n\")\n",
    "def found(appearance, feeling, sounds):\n",
    "    print(f\"While she was talking, a {appearance}, gazed at her, she was so {feeling}, this also has sounds like {sounds}\\n\")\n",
    "    time.sleep(2)\n",
    "def enchanted(creatures, powers, beauty):\n",
    "    print(f\"She saw {creatures}, after the encounter, she had supper powers, she could use the powers for {powers}, and the {beauty}\\n\")\n",
    "def return_(lessons, artifacts, welcome):\n",
    "    print(f\" This story would not be enough because she learnet{lessons}, she also brought back {artifacts}, all villagers welcomed her with {welcome}\\n\")\n",
    "    \n",
    "    \n",
    "    \n",
    "def main():\n",
    "    \n",
    "    intro(\"Eldioria\", \"Emily\",13)\n",
    "    _map (\"vertoc  translucent\", \"Hidden and over looked \", \"Underestimated and negleted\")\n",
    "    journey(\"unindeneted and hilly\", \"Faced challenges, was beaten and wounded by serpent\", \"South Korea and mecca\")\n",
    "    found(\" Beautiful, glassyu and emeald object\", \"excited and fulfilled \", \"winky and glassy like sound\")\n",
    "    enchanted(\"weird and silly looking creatures\", \" Healing, restoration or even fight his enemies\", \" of the charm is it was worth it\")\n",
    "    return_(\"That perseverance is a virtue\", \"Beautiful and shinny figures\", \"songs of Joy and gladness\")\n",
    "    \n",
    "if __name__ == \"__main__\":\n",
    "    main()"
   ]
  },
  {
   "cell_type": "code",
   "execution_count": 4,
   "id": "19996ee7",
   "metadata": {},
   "outputs": [],
   "source": [
    "def foo(tea, tr):\n",
    "    print(f\"This is {tea}.{tr}\")"
   ]
  },
  {
   "cell_type": "code",
   "execution_count": 5,
   "id": "bee4092b",
   "metadata": {},
   "outputs": [
    {
     "name": "stdout",
     "output_type": "stream",
     "text": [
      "This is dan.ty\n"
     ]
    }
   ],
   "source": [
    "foo(\"dan\", \"ty\")"
   ]
  },
  {
   "cell_type": "code",
   "execution_count": 11,
   "id": "eb645d40",
   "metadata": {},
   "outputs": [
    {
     "ename": "TypeError",
     "evalue": "intro() missing 3 required positional arguments: 'village', 'characters', and 'age'",
     "output_type": "error",
     "traceback": [
      "\u001b[1;31m---------------------------------------------------------------------------\u001b[0m",
      "\u001b[1;31mTypeError\u001b[0m                                 Traceback (most recent call last)",
      "\u001b[1;32m~\\AppData\\Local\\Temp\\ipykernel_96368\\3379012511.py\u001b[0m in \u001b[0;36m<module>\u001b[1;34m\u001b[0m\n\u001b[1;32m----> 1\u001b[1;33m \u001b[0mintro\u001b[0m\u001b[1;33m(\u001b[0m\u001b[1;33m)\u001b[0m\u001b[1;33m\u001b[0m\u001b[1;33m\u001b[0m\u001b[0m\n\u001b[0m",
      "\u001b[1;31mTypeError\u001b[0m: intro() missing 3 required positional arguments: 'village', 'characters', and 'age'"
     ]
    }
   ],
   "source": [
    "intro()"
   ]
  },
  {
   "cell_type": "code",
   "execution_count": null,
   "id": "fc605dca",
   "metadata": {},
   "outputs": [],
   "source": []
  }
 ],
 "metadata": {
  "kernelspec": {
   "display_name": "Python 3 (ipykernel)",
   "language": "python",
   "name": "python3"
  },
  "language_info": {
   "codemirror_mode": {
    "name": "ipython",
    "version": 3
   },
   "file_extension": ".py",
   "mimetype": "text/x-python",
   "name": "python",
   "nbconvert_exporter": "python",
   "pygments_lexer": "ipython3",
   "version": "3.9.13"
  }
 },
 "nbformat": 4,
 "nbformat_minor": 5
}
