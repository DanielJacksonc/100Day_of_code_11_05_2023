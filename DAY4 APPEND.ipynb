{
 "cells": [
  {
   "cell_type": "code",
   "execution_count": 1,
   "id": "633cd487",
   "metadata": {},
   "outputs": [],
   "source": [
    "#Understanding the offset and appending items to a list"
   ]
  },
  {
   "cell_type": "markdown",
   "id": "8050607a",
   "metadata": {},
   "source": [
    "Write a Python function called even_or_odd that takes an integer as an argument. The function should return the string \"Even\" if the number is even or \"Odd\" if the number is odd.\n",
    "\n",
    "For example:\n",
    "\n",
    "If you call even_or_odd(4), the function should return \"Even\" because 4 is an even number.\n",
    "If you call even_or_odd(7), the function should return \"Odd\" because 7 is an odd number.\n",
    "Take your time to write the function, and when you're ready, you can share your solution with me for feedback or assistance if needed."
   ]
  },
  {
   "cell_type": "code",
   "execution_count": 2,
   "id": "fbb2df65",
   "metadata": {},
   "outputs": [
    {
     "name": "stdout",
     "output_type": "stream",
     "text": [
      "Even\n"
     ]
    }
   ],
   "source": [
    "def even_or_odd(num):\n",
    "  \n",
    "    if num % 2 == 0:\n",
    "        print('Even')\n",
    "        \n",
    "    else:\n",
    "        print('odd')\n",
    "        \n",
    "tat = even_or_odd(1090)\n",
    "        "
   ]
  },
  {
   "cell_type": "markdown",
   "id": "9d6b90ce",
   "metadata": {},
   "source": [
    "## Palindrone\n",
    "Here's another simple function challenge for you:\n",
    "\n",
    "Write a Python function called is_palindrome that takes a string as an argument. The function should return True if the input string is a palindrome (reads the same forwards and backward), and False otherwise.\n",
    "\n",
    "For example:\n",
    "\n",
    "is_palindrome(\"racecar\") should return True because \"racecar\" is a palindrome.\n",
    "is_palindrome(\"hello\") should return False because \"hello\" is not a palindrome.\n",
    "Try writing the is_palindrome function, and feel free to share your solution with me for feedback or assistance."
   ]
  },
  {
   "cell_type": "code",
   "execution_count": 3,
   "id": "6905025f",
   "metadata": {},
   "outputs": [
    {
     "name": "stdout",
     "output_type": "stream",
     "text": [
      "False\n"
     ]
    }
   ],
   "source": [
    "def is_palindrome (n):\n",
    "    rev = n[::-1] ####this notation helps to reverse\n",
    "    if rev == n:\n",
    "        return 'True'\n",
    "    else:\n",
    "        return 'False'\n",
    "    \n",
    "ans = is_palindrome('slide')\n",
    "print(ans)"
   ]
  },
  {
   "cell_type": "markdown",
   "id": "f6ea430e",
   "metadata": {},
   "source": [
    "Here's another simple function challenge for you:\n",
    "\n",
    "Write a Python function called count_vowels that takes a string as input and returns the count of vowels (A, E, I, O, U) in the string. Ignore the case of the characters, meaning 'a' and 'A' should be treated as the same vowel.\n",
    "\n",
    "For example:\n",
    "\n",
    "count_vowels(\"Hello World\") should return 3 because there are three vowels ('e', 'o', 'o') in the string.\n",
    "count_vowels(\"Python\") should return 1 because there is one vowel ('o') in the string.\n",
    "Take your time to write the count_vowels function, and when you're ready, you can share your solution with me for feedback or assistance."
   ]
  },
  {
   "cell_type": "code",
   "execution_count": 4,
   "id": "b5aea625",
   "metadata": {},
   "outputs": [
    {
     "name": "stdout",
     "output_type": "stream",
     "text": [
      "3\n"
     ]
    }
   ],
   "source": [
    "vowels = ('a','e','i','o','u')\n",
    "\n",
    "def count_vowels(n):\n",
    "    n.lower()\n",
    "    count = 0\n",
    "    for i in n:\n",
    "        if i in vowels:\n",
    "            count = count+1\n",
    "    return count\n",
    "   \n",
    "    \n",
    "    \n",
    "coun = count_vowels('daniel')\n",
    "print(coun)"
   ]
  },
  {
   "cell_type": "markdown",
   "id": "47b9a13b",
   "metadata": {},
   "source": [
    "Write a Python function called reverse_string that takes a string as input and returns the string reversed. In other words, the function should reverse the order of characters in the string.\n",
    "\n",
    "For example:\n",
    "\n",
    "reverse_string(\"Hello\") should return \"olleH.\"\n",
    "reverse_string(\"Python\") should return \"nohtyP.\"\n",
    "Try writing the reverse_string function, and when you're ready, you can share your solution with me for feedback or assistance."
   ]
  },
  {
   "cell_type": "code",
   "execution_count": 5,
   "id": "5fc60bf8",
   "metadata": {},
   "outputs": [
    {
     "name": "stdout",
     "output_type": "stream",
     "text": [
      "leinad\n"
     ]
    }
   ],
   "source": [
    "def reverse_string(n):\n",
    "    rev = n[::-1]\n",
    "    return rev\n",
    "rt = reverse_string('daniel')\n",
    "print(rt)\n",
    "    "
   ]
  },
  {
   "cell_type": "markdown",
   "id": "0e16b2eb",
   "metadata": {},
   "source": [
    "## Challenges\n",
    "##### Challenge \n",
    "$1: Find the Maximum Number$\n",
    "Write a function called find_max that takes a list of numbers as input and returns the maximum number in the list."
   ]
  },
  {
   "cell_type": "code",
   "execution_count": 6,
   "id": "990d0943",
   "metadata": {},
   "outputs": [
    {
     "name": "stdout",
     "output_type": "stream",
     "text": [
      "6\n"
     ]
    }
   ],
   "source": [
    "\n",
    "def find_max(*n):\n",
    "    \n",
    "    if len(n)==0:\n",
    "        return None\n",
    "    \n",
    "    max_num = max(n)\n",
    "    return max_num\n",
    "    \n",
    "    \n",
    "    \n",
    "adt = find_max(1,3,5,6)\n",
    "print(adt)\n",
    "    \n",
    "  \n"
   ]
  },
  {
   "cell_type": "markdown",
   "id": "dfa8db14",
   "metadata": {},
   "source": [
    "##### Challenge 2:\n",
    "$Calculate Factorial$\n",
    "Write a function called calculate_factorial that takes an integer as input and returns the factorial of that number. The factorial of a non-negative integer n is the product of all positive integers less than or equal to n."
   ]
  },
  {
   "cell_type": "code",
   "execution_count": 7,
   "id": "49926d23",
   "metadata": {},
   "outputs": [
    {
     "name": "stdout",
     "output_type": "stream",
     "text": [
      "1\n"
     ]
    }
   ],
   "source": [
    "def calculate_factoral(*n):\n",
    "    \n",
    "    number = 1\n",
    "    \n",
    "    for i in n:\n",
    "        if i>0:\n",
    "            \n",
    "            \n",
    "            number = number * i\n",
    "            \n",
    "            \n",
    "    return number\n",
    "\n",
    "\n",
    "fact = calculate_factoral(-3)\n",
    "print(fact)\n",
    "    "
   ]
  },
  {
   "cell_type": "code",
   "execution_count": 8,
   "id": "1e46eb30",
   "metadata": {},
   "outputs": [
    {
     "name": "stdout",
     "output_type": "stream",
     "text": [
      "120\n"
     ]
    }
   ],
   "source": [
    "def calculate_factorial(n):\n",
    "    if n == 0:\n",
    "        return 1  # 0! is defined as 1\n",
    "    elif n < 0:\n",
    "        return None  # Factorial is not defined for negative numbers\n",
    "    \n",
    "    factorial = 1\n",
    "    for i in range(1, n + 1):\n",
    "        factorial *= i\n",
    "    \n",
    "    return factorial\n",
    "\n",
    "fact = calculate_factorial(5)\n",
    "print(fact)"
   ]
  },
  {
   "cell_type": "markdown",
   "id": "44697350",
   "metadata": {},
   "source": [
    "###### Challenge 3:\n",
    "$Count  Words  in a String$\n",
    "\n",
    "Write a function called count_words that takes a string as input and returns the count of words in the string. Words are separated by spaces."
   ]
  },
  {
   "cell_type": "code",
   "execution_count": 9,
   "id": "73b35db8",
   "metadata": {},
   "outputs": [],
   "source": [
    "#def count_words(n):\n",
    "    "
   ]
  },
  {
   "cell_type": "markdown",
   "id": "cb3dff24",
   "metadata": {},
   "source": [
    "Write a function called calculate_area that takes base and height as an input and returns and area of a triangle. Equation of an area of a triangle is,"
   ]
  },
  {
   "cell_type": "code",
   "execution_count": 10,
   "id": "22e6fbec",
   "metadata": {},
   "outputs": [
    {
     "name": "stdout",
     "output_type": "stream",
     "text": [
      "7.5\n"
     ]
    }
   ],
   "source": [
    "def calculate_area(base,height):\n",
    "    are = base * height\n",
    "    area = (1/2)*are\n",
    "    return area\n",
    "pr = calculate_area(3,5)\n",
    "print(pr)"
   ]
  },
  {
   "cell_type": "markdown",
   "id": "d607b6e4",
   "metadata": {},
   "source": [
    "Modify above function to take third parameter shape type. It can be either \"triangle\" or \"rectangle\". Based on shape type it will calculate area. Equation of rectangle's area is, rectangle area=length*width"
   ]
  },
  {
   "cell_type": "code",
   "execution_count": 11,
   "id": "c83bc489",
   "metadata": {},
   "outputs": [
    {
     "name": "stdout",
     "output_type": "stream",
     "text": [
      "10.5\n",
      "your shape is rectangle and area is 20\n",
      "wrong input\n",
      "None\n"
     ]
    }
   ],
   "source": [
    "def calculate_area(base, height, shape ):\n",
    "    \n",
    "    if shape == 'triangle':\n",
    "        area = 0.5*base*height\n",
    "        \n",
    "    elif shape == 'rectangle':\n",
    "        area = base*height\n",
    "        \n",
    "    else:\n",
    "        print('wrong input')\n",
    "        area = None\n",
    "        \n",
    "    return area\n",
    "\n",
    "\n",
    "triangle_result = calculate_area(3,7,'triangle')\n",
    "print(triangle_result)\n",
    "\n",
    "rectangle_result= calculate_area(4, 5, 'rectangle')\n",
    "print(f'your shape is rectangle and area is {rectangle_result}')\n",
    "\n",
    "unknown_area = calculate_area(7, 8, 'circle')\n",
    "print(unknown_area)"
   ]
  },
  {
   "cell_type": "code",
   "execution_count": 12,
   "id": "74b29f90",
   "metadata": {},
   "outputs": [
    {
     "name": "stdout",
     "output_type": "stream",
     "text": [
      "Triangle Area: 7.5\n",
      "Rectangle Area: 15\n",
      "Unknown Shape Area: None\n"
     ]
    }
   ],
   "source": [
    "def calculate_area(base, height, shape_type):\n",
    "    if shape_type == \"triangle\":\n",
    "        area = 0.5 * base * height  # Triangle area calculation\n",
    "    elif shape_type == \"rectangle\":\n",
    "        area = base * height  # Rectangle area calculation\n",
    "    else:\n",
    "        area = None  # Handle unknown shape types\n",
    "    return area\n",
    "\n",
    "# Calculate the area of a triangle\n",
    "triangle_area = calculate_area(3, 5, \"triangle\")\n",
    "print(\"Triangle Area:\", triangle_area)\n",
    "\n",
    "# Calculate the area of a rectangle\n",
    "rectangle_area = calculate_area(3, 5, \"rectangle\")\n",
    "print(\"Rectangle Area:\", rectangle_area)\n",
    "\n",
    "# Handle unknown shape type\n",
    "unknown_area = calculate_area(3, 5, \"circle\")\n",
    "print(\"Unknown Shape Area:\", unknown_area)"
   ]
  },
  {
   "cell_type": "markdown",
   "id": "9707c799",
   "metadata": {},
   "source": [
    "\n",
    "Write a function called print_pattern that takes integer number as an argument and prints following pattern if input number is 3,"
   ]
  },
  {
   "cell_type": "code",
   "execution_count": 51,
   "id": "72ec60fc",
   "metadata": {},
   "outputs": [
    {
     "ename": "IndentationError",
     "evalue": "expected an indented block (2597157588.py, line 3)",
     "output_type": "error",
     "traceback": [
      "\u001b[1;36m  File \u001b[1;32m\"C:\\Users\\daniejackson\\AppData\\Local\\Temp\\ipykernel_45712\\2597157588.py\"\u001b[1;36m, line \u001b[1;32m3\u001b[0m\n\u001b[1;33m    '''\u001b[0m\n\u001b[1;37m    ^\u001b[0m\n\u001b[1;31mIndentationError\u001b[0m\u001b[1;31m:\u001b[0m expected an indented block\n"
     ]
    }
   ],
   "source": [
    "def print_pattern():\n",
    "    def print_pattern(n=5):\n",
    "    '''\n",
    "    :param n: Integer number representing number of lines\n",
    "    to be printed in a pattern. If n=3 it will print,\n",
    "      *\n",
    "      **\n",
    "      ***\n",
    "    If n=4, it will print,\n",
    "      *\n",
    "      **\n",
    "      ***\n",
    "      ****\n",
    "    Default value for n is 5. So if function caller doesn't\n",
    "    supply the input number then it will assume it to be 5\n",
    "    :return: None\n",
    "    '''\n",
    "    # we need to run two for loops. Outer loop prints patterns line by line\n",
    "    # where as inner loop print the content of that specific lines\n",
    "    #for i in range(n):\n",
    "        s = ''\n",
    "        for j in range(i+1):\n",
    "            s = s + '*'\n",
    "        print(s)\n",
    "    "
   ]
  },
  {
   "cell_type": "code",
   "execution_count": 15,
   "id": "2e298ebc",
   "metadata": {},
   "outputs": [
    {
     "name": "stdout",
     "output_type": "stream",
     "text": [
      "Print pattern with input=3\n"
     ]
    },
    {
     "ename": "NameError",
     "evalue": "name 'print_pattern' is not defined",
     "output_type": "error",
     "traceback": [
      "\u001b[1;31m---------------------------------------------------------------------------\u001b[0m",
      "\u001b[1;31mNameError\u001b[0m                                 Traceback (most recent call last)",
      "\u001b[1;32m~\\AppData\\Local\\Temp\\ipykernel_45712\\875080200.py\u001b[0m in \u001b[0;36m<module>\u001b[1;34m\u001b[0m\n\u001b[0;32m      1\u001b[0m \u001b[0mprint\u001b[0m\u001b[1;33m(\u001b[0m\u001b[1;34m\"Print pattern with input=3\"\u001b[0m\u001b[1;33m)\u001b[0m\u001b[1;33m\u001b[0m\u001b[1;33m\u001b[0m\u001b[0m\n\u001b[1;32m----> 2\u001b[1;33m \u001b[0mprint_pattern\u001b[0m\u001b[1;33m(\u001b[0m\u001b[1;36m3\u001b[0m\u001b[1;33m)\u001b[0m\u001b[1;33m\u001b[0m\u001b[1;33m\u001b[0m\u001b[0m\n\u001b[0m\u001b[0;32m      3\u001b[0m \u001b[0mprint\u001b[0m\u001b[1;33m(\u001b[0m\u001b[1;34m\"Print pattern with input=4\"\u001b[0m\u001b[1;33m)\u001b[0m\u001b[1;33m\u001b[0m\u001b[1;33m\u001b[0m\u001b[0m\n\u001b[0;32m      4\u001b[0m \u001b[0mprint_pattern\u001b[0m\u001b[1;33m(\u001b[0m\u001b[1;36m4\u001b[0m\u001b[1;33m)\u001b[0m\u001b[1;33m\u001b[0m\u001b[1;33m\u001b[0m\u001b[0m\n\u001b[0;32m      5\u001b[0m \u001b[0mprint\u001b[0m\u001b[1;33m(\u001b[0m\u001b[1;34m\"Print pattern with no input number\"\u001b[0m\u001b[1;33m)\u001b[0m\u001b[1;33m\u001b[0m\u001b[1;33m\u001b[0m\u001b[0m\n",
      "\u001b[1;31mNameError\u001b[0m: name 'print_pattern' is not defined"
     ]
    }
   ],
   "source": [
    "print(\"Print pattern with input=3\")\n",
    "print_pattern(3)\n",
    "print(\"Print pattern with input=4\")\n",
    "print_pattern(4)\n",
    "print(\"Print pattern with no input number\")\n",
    "print_pattern() # Not supplying any input will use default argument which is 5"
   ]
  },
  {
   "cell_type": "markdown",
   "id": "332b55c0",
   "metadata": {},
   "source": [
    " Create 2. Create two variables. One to store your birth year and another one to store current year. Now calculate your age using these two variablesa variable called break and assign it a value 5. See what happens and find out the reason behind the behavior that you see\n",
    " \n",
    " 3. Store your first, middle and last name in three different variables and then print your full name using these variables\n",
    " \n",
    "\n",
    "\n",
    "\n"
   ]
  },
  {
   "cell_type": "code",
   "execution_count": 16,
   "id": "8a4866bf",
   "metadata": {},
   "outputs": [],
   "source": [
    "dob = 1993\n",
    "tod = 2023"
   ]
  },
  {
   "cell_type": "code",
   "execution_count": 17,
   "id": "295bd4a9",
   "metadata": {},
   "outputs": [
    {
     "name": "stdout",
     "output_type": "stream",
     "text": [
      "-30\n"
     ]
    }
   ],
   "source": [
    "current = dob-tod\n",
    "print(current)"
   ]
  },
  {
   "cell_type": "code",
   "execution_count": 18,
   "id": "5b59abf7",
   "metadata": {},
   "outputs": [
    {
     "name": "stdout",
     "output_type": "stream",
     "text": [
      "DanielChimdiebubeJackson\n"
     ]
    }
   ],
   "source": [
    "fn = 'Daniel'\n",
    "Mn = 'Chimdiebube'\n",
    "Ln = 'Jackson'\n",
    "\n",
    "full_name = fn +Mn + Ln\n",
    "print(full_name)"
   ]
  },
  {
   "cell_type": "markdown",
   "id": "3ef338ec",
   "metadata": {},
   "source": [
    "You have a football field that is 92 meter long and 48.8 meter wide. Find out total area using python and print it.\n",
    "\n",
    "You bought 9 packets of potato chips from a store. Each packet costs 1.49 dollar and you gave shopkeeper 20 dollar. Find out using python, how many dollars is the shopkeeper going to give you back?\n",
    "\n",
    "You want to replace tiles in your bathroom which is exactly square and 5.5 feet is its length. If tiles cost 500 rs per square feet, how much will be the total cost to replace all tiles. Calculate and print the cost using python (Hint: Use power operator ** to find area of a square)\n",
    "\n",
    "Print binary representation of number 17"
   ]
  },
  {
   "cell_type": "code",
   "execution_count": 19,
   "id": "1884b8e5",
   "metadata": {},
   "outputs": [],
   "source": [
    "length = 92\n",
    "width = 48.8"
   ]
  },
  {
   "cell_type": "code",
   "execution_count": 20,
   "id": "780ae132",
   "metadata": {},
   "outputs": [],
   "source": [
    "area = round(length*width, 2)"
   ]
  },
  {
   "cell_type": "code",
   "execution_count": 21,
   "id": "b3478793",
   "metadata": {},
   "outputs": [
    {
     "name": "stdout",
     "output_type": "stream",
     "text": [
      "4489.6\n"
     ]
    }
   ],
   "source": [
    "print(area)"
   ]
  },
  {
   "cell_type": "code",
   "execution_count": 22,
   "id": "772b6111",
   "metadata": {},
   "outputs": [
    {
     "name": "stdout",
     "output_type": "stream",
     "text": [
      "6.59\n"
     ]
    }
   ],
   "source": [
    "buy = 9*1.49\n",
    "mon = 20\n",
    "change = mon - buy\n",
    "print(change)"
   ]
  },
  {
   "cell_type": "code",
   "execution_count": 23,
   "id": "67aa02e1",
   "metadata": {},
   "outputs": [
    {
     "data": {
      "text/plain": [
       "15125.0"
      ]
     },
     "execution_count": 23,
     "metadata": {},
     "output_type": "execute_result"
    }
   ],
   "source": [
    "length = 5.5**2\n",
    "cost  = 500\n",
    "money_needed = cost * length\n",
    "money_needed"
   ]
  },
  {
   "cell_type": "markdown",
   "id": "cc7eb4f7",
   "metadata": {},
   "source": [
    "Create 3 variables to store street, city and country, now create address variable to store entire address. Use two ways of creating this variable, one using + operator and the other using f-string. Now Print the address in such a way that the street, city and country prints in a separate line\n",
    "\n",
    "Create a variable to store the string \"Earth revolves around the sun\"\n",
    "Print \"revolves\" using slice operator\n",
    "Print \"sun\" using negative index\n",
    "\n",
    "Create two variables to store how many fruits and vegetables you eat in a day. Now Print \"I eat x veggies and y fruits daily\" where x and y presents vegetables and fruits that you eat everyday. Use python f string for this.\n",
    "I have a string variable called s='maine 200 banana khaye'. This of course is a wrong statement, the correct statement is 'maine 10 samosa khaye'. Replace incorrect words in original strong with new ones and print the new string. Also try to do this in one line."
   ]
  },
  {
   "cell_type": "code",
   "execution_count": 24,
   "id": "4e6b4686",
   "metadata": {},
   "outputs": [],
   "source": [
    "street = '9150 hwy 6N'\n",
    "city = ' Hoston'\n",
    "country = ' US'\n",
    "address = street + city + country "
   ]
  },
  {
   "cell_type": "code",
   "execution_count": 25,
   "id": "6a381420",
   "metadata": {},
   "outputs": [
    {
     "data": {
      "text/plain": [
       "'9150 hwy 6N Hoston US'"
      ]
     },
     "execution_count": 25,
     "metadata": {},
     "output_type": "execute_result"
    }
   ],
   "source": [
    "address"
   ]
  },
  {
   "cell_type": "code",
   "execution_count": 26,
   "id": "5f57efcc",
   "metadata": {},
   "outputs": [
    {
     "name": "stdout",
     "output_type": "stream",
     "text": [
      "my address is: 9150 hwy 6N Hoston US\n"
     ]
    }
   ],
   "source": [
    "street = '9150 hwy 6N'\n",
    "city = ' Hoston'\n",
    "country = ' US'\n",
    "address = street + city + country \n",
    "print(f'my address is: {address}')\n"
   ]
  },
  {
   "cell_type": "code",
   "execution_count": 27,
   "id": "13d3a1e8",
   "metadata": {},
   "outputs": [
    {
     "name": "stdout",
     "output_type": "stream",
     "text": [
      "my address is: 9150 hwy 6N\n",
      "  Hoston\n",
      " US\n"
     ]
    }
   ],
   "source": [
    "street = '9150 hwy 6N'\n",
    "city = ' Hoston'\n",
    "country = ' US'\n",
    "\n",
    "print(f'my address is: {street}\\n {city}\\n{country}')"
   ]
  },
  {
   "cell_type": "code",
   "execution_count": 28,
   "id": "ebebaf5e",
   "metadata": {},
   "outputs": [
    {
     "data": {
      "text/plain": [
       "' revolves'"
      ]
     },
     "execution_count": 28,
     "metadata": {},
     "output_type": "execute_result"
    }
   ],
   "source": [
    "revolves = \"Earth revolves around the sun\"\n",
    "revolves[5:14]\n"
   ]
  },
  {
   "cell_type": "code",
   "execution_count": 29,
   "id": "bca71bef",
   "metadata": {},
   "outputs": [
    {
     "data": {
      "text/plain": [
       "'sun'"
      ]
     },
     "execution_count": 29,
     "metadata": {},
     "output_type": "execute_result"
    }
   ],
   "source": [
    "revolves[-3:]"
   ]
  },
  {
   "cell_type": "code",
   "execution_count": 30,
   "id": "8e724423",
   "metadata": {},
   "outputs": [
    {
     "data": {
      "text/plain": [
       "'I eat 6 veggies and 7 fruits daily'"
      ]
     },
     "execution_count": 30,
     "metadata": {},
     "output_type": "execute_result"
    }
   ],
   "source": [
    "fruits = 6\n",
    "vege = 7\n",
    "\n",
    "sent = ( f\"I eat {fruits} veggies and {vege} fruits daily\" )\n",
    "sent"
   ]
  },
  {
   "cell_type": "markdown",
   "id": "70b5af04",
   "metadata": {},
   "source": [
    "Let us say your expense for every month are listed below,\n",
    "\n",
    "January - 2200\n",
    "\n",
    "February - 2350\n",
    "\n",
    "March - 2600\n",
    "\n",
    "April - 2130\n",
    "\n",
    "May - 2190\n",
    "\n",
    "Create a list to store these monthly expenses and using that find out,\n",
    "\n",
    "1. In Feb, how many dollars you spent extra compare to January?\n",
    "2. Find out your total expense in first quarter (first three months) of the year.\n",
    "3. Find out if you spent exactly 2000 dollars in any month\n",
    "4. June month just finished and your expense is 1980 dollar. Add this item to our monthly expense list\n",
    "5. You returned an item that you bought in a month of April and\n",
    "got a refund of 200$. Make a correction to your monthly expense list\n",
    "based on this"
   ]
  },
  {
   "cell_type": "code",
   "execution_count": 31,
   "id": "cadd86b0",
   "metadata": {},
   "outputs": [],
   "source": [
    "January = 2200\n",
    "\n",
    "February = 2350\n",
    "\n",
    "March = 2600\n",
    "\n",
    "April =  2130\n",
    "\n",
    "May =  2190\n",
    "\n",
    "exp = [2200, 2350, 2600, 2130, 2190]"
   ]
  },
  {
   "cell_type": "code",
   "execution_count": 32,
   "id": "c9ee9679",
   "metadata": {},
   "outputs": [
    {
     "data": {
      "text/plain": [
       "150"
      ]
     },
     "execution_count": 32,
     "metadata": {},
     "output_type": "execute_result"
    }
   ],
   "source": [
    "feb = February - January\n",
    "feb"
   ]
  },
  {
   "cell_type": "code",
   "execution_count": 33,
   "id": "e0778fd1",
   "metadata": {},
   "outputs": [
    {
     "data": {
      "text/plain": [
       "7150"
      ]
     },
     "execution_count": 33,
     "metadata": {},
     "output_type": "execute_result"
    }
   ],
   "source": [
    "exp_in_quater = January +February +March\n",
    "exp_in_quater"
   ]
  },
  {
   "cell_type": "code",
   "execution_count": 34,
   "id": "85dafc70",
   "metadata": {},
   "outputs": [
    {
     "data": {
      "text/plain": [
       "False"
      ]
     },
     "execution_count": 34,
     "metadata": {},
     "output_type": "execute_result"
    }
   ],
   "source": [
    "check = (2000 in exp)\n",
    "check"
   ]
  },
  {
   "cell_type": "code",
   "execution_count": 35,
   "id": "f00d7f37",
   "metadata": {},
   "outputs": [
    {
     "data": {
      "text/plain": [
       "[2200, 2350, 2600, 2130, 2190, 1980]"
      ]
     },
     "execution_count": 35,
     "metadata": {},
     "output_type": "execute_result"
    }
   ],
   "source": [
    "exp.append(1980)\n",
    "exp"
   ]
  },
  {
   "cell_type": "code",
   "execution_count": 36,
   "id": "4413cae6",
   "metadata": {},
   "outputs": [
    {
     "data": {
      "text/plain": [
       "[2200, 2350, 2600, 200, 2190, 1980]"
      ]
     },
     "execution_count": 36,
     "metadata": {},
     "output_type": "execute_result"
    }
   ],
   "source": [
    "exp[3]=200\n",
    "exp"
   ]
  },
  {
   "cell_type": "markdown",
   "id": "a588f701",
   "metadata": {},
   "source": [
    "You have a list of your favourite marvel super heros.\n",
    "\n",
    "heros=['spider man','thor','hulk','iron man','captain america']\n",
    "\n",
    "Using this find out,\n",
    "\n",
    "1. Length of the list\n",
    "2. Add 'black panther' at the end of this list\n",
    "3. You realize that you need to add 'black panther' after 'hulk',\n",
    "   so remove it from the list first and then add it after 'hulk'\n",
    "4. Now you don't like thor and hulk because they get angry easily :)\n",
    "   So you want to remove thor and hulk from list and replace them with doctor strange (because he is cool).\n",
    "   Do that with one line of code.\n",
    "5. Sort the heros list in alphabetical order (Hint. Use dir() functions to list down all functions available in list)"
   ]
  },
  {
   "cell_type": "code",
   "execution_count": 37,
   "id": "df3eb0a4",
   "metadata": {},
   "outputs": [
    {
     "data": {
      "text/plain": [
       "5"
      ]
     },
     "execution_count": 37,
     "metadata": {},
     "output_type": "execute_result"
    }
   ],
   "source": [
    "heros=['spider man','thor','hulk','iron man','captain america']\n",
    "len(heros)"
   ]
  },
  {
   "cell_type": "code",
   "execution_count": 38,
   "id": "c20eabee",
   "metadata": {},
   "outputs": [
    {
     "data": {
      "text/plain": [
       "['spider man', 'thor', 'hulk', 'iron man', 'captain america', 'black panther']"
      ]
     },
     "execution_count": 38,
     "metadata": {},
     "output_type": "execute_result"
    }
   ],
   "source": [
    "heros.append('black panther')\n",
    "heros"
   ]
  },
  {
   "cell_type": "code",
   "execution_count": 39,
   "id": "8bbe3014",
   "metadata": {},
   "outputs": [],
   "source": [
    "del heros[-1]"
   ]
  },
  {
   "cell_type": "code",
   "execution_count": 40,
   "id": "74ecf9d1",
   "metadata": {},
   "outputs": [
    {
     "data": {
      "text/plain": [
       "['spider man', 'thor', 'hulk', 'iron man', 'captain america']"
      ]
     },
     "execution_count": 40,
     "metadata": {},
     "output_type": "execute_result"
    }
   ],
   "source": [
    "heros"
   ]
  },
  {
   "cell_type": "code",
   "execution_count": 41,
   "id": "9c5de72c",
   "metadata": {},
   "outputs": [],
   "source": [
    "del heros[-1]"
   ]
  },
  {
   "cell_type": "code",
   "execution_count": 42,
   "id": "114ad2c7",
   "metadata": {},
   "outputs": [
    {
     "data": {
      "text/plain": [
       "['spider man', 'thor', 'hulk', 'iron man']"
      ]
     },
     "execution_count": 42,
     "metadata": {},
     "output_type": "execute_result"
    }
   ],
   "source": [
    "heros"
   ]
  },
  {
   "cell_type": "code",
   "execution_count": 43,
   "id": "50ec9ba7",
   "metadata": {},
   "outputs": [],
   "source": [
    "heros.append('captain america')"
   ]
  },
  {
   "cell_type": "code",
   "execution_count": 44,
   "id": "4f1d1ff2",
   "metadata": {},
   "outputs": [
    {
     "name": "stdout",
     "output_type": "stream",
     "text": [
      "['spider man', 'thor', 'doctor', 'black panther', 'iron man', 'captain america']\n"
     ]
    }
   ],
   "source": [
    "heros.insert(3, 'black panther')\n",
    "heros\n",
    "\n",
    "heros[2]=('doctor')\n",
    "print(heros)"
   ]
  },
  {
   "cell_type": "code",
   "execution_count": 45,
   "id": "97960daf",
   "metadata": {},
   "outputs": [
    {
     "name": "stdout",
     "output_type": "stream",
     "text": [
      "['black panther', 'captain america', 'doctor', 'iron man', 'spider man', 'thor']\n"
     ]
    }
   ],
   "source": [
    "heros.sort()\n",
    "print(heros)"
   ]
  },
  {
   "cell_type": "markdown",
   "id": "b50a996e",
   "metadata": {},
   "source": [
    "Using following list of cities per country,\n",
    "\n",
    "india = [\"mumbai\", \"banglore\", \"chennai\", \"delhi\"]\n",
    "\n",
    "pakistan = [\"lahore\",\"karachi\",\"islamabad\"]\n",
    "\n",
    "bangladesh = [\"dhaka\", \"khulna\", \"rangpur\"]\n",
    "\n",
    "Write a program that asks user to enter a city name and it should tell which country the city belongs to\n",
    "\n",
    "Write a program that asks user to enter two cities and it tells you if they both are in same country or not. For example if I \n",
    "enter mumbai and chennai, it will print \"Both cities are in India\" but if I enter mumbai and dhaka it should print \"They don't belong to same country\"\n",
    "\n",
    "Write a python program that can tell you if your sugar is normal or not. Normal fasting level sugar range is 80 to 100.\n",
    "Ask user to enter his fasting sugar level\n",
    "\n",
    "If it is below 80 to 100 range then print that sugar is low\n",
    "\n",
    "If it is above 100 then print that it is high otherwise print that it is normal"
   ]
  },
  {
   "cell_type": "code",
   "execution_count": 46,
   "id": "36c47273",
   "metadata": {},
   "outputs": [],
   "source": [
    "india = [\"mumbai\", \"banglore\", \"chennai\", \"delhi\"]\n",
    "\n",
    "pakistan = [\"lahore\",\"karachi\",\"islamabad\"]\n",
    "\n",
    "bangladesh = [\"dhaka\", \"khulna\", \"rangpur\"]"
   ]
  },
  {
   "cell_type": "code",
   "execution_count": 47,
   "id": "d2476e4f",
   "metadata": {},
   "outputs": [
    {
     "name": "stdout",
     "output_type": "stream",
     "text": [
      "please enter a city name:\n",
      "No country was found\n"
     ]
    }
   ],
   "source": [
    "enter_city = input('please enter a city name:')\n",
    "\n",
    "if enter_city in india:\n",
    "    print(f'You chose {enter_city},  and its a city in  India')\n",
    "elif enter_city in pakistan:\n",
    "    print(f'You chose {enter_city},  and its a city in  pakistan')\n",
    "elif enter_city in bangladesh:\n",
    "    print(f'You chose {enter_city},  and its a city in  bangladesh')\n",
    "else:\n",
    "    print('No country was found')\n",
    "    \n",
    "    "
   ]
  },
  {
   "cell_type": "code",
   "execution_count": 48,
   "id": "3ac5d61b",
   "metadata": {},
   "outputs": [
    {
     "name": "stdout",
     "output_type": "stream",
     "text": [
      "please enter a city name:\n",
      "please enter a city name:\n",
      "No country was found\n"
     ]
    }
   ],
   "source": [
    "city1 = input('please enter a city name:')\n",
    "city2 = input('please enter a city name:')\n",
    "\n",
    "if city1 in india:\n",
    "    if city2 in india:\n",
    "        print(f'You chose {city1} and {city2},  and its a city in  India')\n",
    "elif city1 in pakistan:\n",
    "    if city2 in pakistan:\n",
    "        print(f'You chose {city1} and {city2},  and its a city in  pakistan')\n",
    "elif city1 in bangladesh:\n",
    "    if city2 in bangladesh:\n",
    "        print(f'You chose {city1} and {city2},  and its a city in  bangladesh')\n",
    "else:\n",
    "    print('No country was found')"
   ]
  },
  {
   "cell_type": "code",
   "execution_count": 52,
   "id": "67604736",
   "metadata": {},
   "outputs": [
    {
     "name": "stdout",
     "output_type": "stream",
     "text": [
      "please enter fasting sugar level:20\n",
      "sugar is low\n"
     ]
    }
   ],
   "source": [
    "\n",
    "sugar = int(input('please enter fasting sugar level:'))\n",
    "if sugar >= 80 and sugar <= 100:\n",
    "    print('Sugar level is normal')\n",
    "elif sugar < 80 :\n",
    "    print('sugar is low')\n",
    "else:\n",
    "    print('sugar is high')\n"
   ]
  },
  {
   "cell_type": "code",
   "execution_count": null,
   "id": "7bdf802d",
   "metadata": {},
   "outputs": [],
   "source": []
  },
  {
   "cell_type": "code",
   "execution_count": null,
   "id": "2889ee6c",
   "metadata": {},
   "outputs": [],
   "source": []
  },
  {
   "cell_type": "code",
   "execution_count": 53,
   "id": "24abd0d8",
   "metadata": {},
   "outputs": [
    {
     "name": "stdout",
     "output_type": "stream",
     "text": [
      "*\n",
      "**\n",
      "***\n",
      "****\n"
     ]
    }
   ],
   "source": [
    "for i in range (1, 5):\n",
    "    for j in range(i):\n",
    "        print('*', end = \"\")\n",
    "    print()"
   ]
  },
  {
   "cell_type": "code",
   "execution_count": null,
   "id": "3c93d32d",
   "metadata": {},
   "outputs": [],
   "source": []
  },
  {
   "cell_type": "code",
   "execution_count": null,
   "id": "3439d4d4",
   "metadata": {},
   "outputs": [],
   "source": []
  }
 ],
 "metadata": {
  "kernelspec": {
   "display_name": "Python 3 (ipykernel)",
   "language": "python",
   "name": "python3"
  },
  "language_info": {
   "codemirror_mode": {
    "name": "ipython",
    "version": 3
   },
   "file_extension": ".py",
   "mimetype": "text/x-python",
   "name": "python",
   "nbconvert_exporter": "python",
   "pygments_lexer": "ipython3",
   "version": "3.9.13"
  }
 },
 "nbformat": 4,
 "nbformat_minor": 5
}
