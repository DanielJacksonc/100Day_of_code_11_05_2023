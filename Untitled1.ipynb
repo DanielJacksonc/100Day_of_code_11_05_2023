{
 "cells": [
  {
   "cell_type": "code",
   "execution_count": null,
   "id": "fde67c3e",
   "metadata": {},
   "outputs": [
    {
     "name": "stdout",
     "output_type": "stream",
     "text": [
      "..... Welcome to 🕸AUCAPP✔.....the app that you can secretly auction anything.... All copy right reseved : Daniel Jackson\n"
     ]
    }
   ],
   "source": [
    "print(\"..... Welcome to 🕸AUCAPP✔.....the app that you can secretly auction anything.... All copy right reseved : Daniel Jackson\")\n",
    "\n",
    "\n",
    "bid = {}            \n",
    "bid_state = False\n",
    "def highest_bid(highest_bider):\n",
    "    best_bid = 0\n",
    "    winner = ''\n",
    "    #highest_bider = {'danie': 100, \"neche\":300}\n",
    "    for bidder in highest_bider:\n",
    "        amount = highest_bider[bidder]\n",
    "        if amount > best_bid:\n",
    "            best_bid = amount\n",
    "            #we want to know the name of the name of the highest bid\n",
    "            winner = bidder\n",
    "    print(f\" The winner of the bid is {winner} with bidding price of ${best_bid}\")\n",
    "    \n",
    "while not bid_state:\n",
    "\n",
    "    \n",
    "    name = input(\"what is your name: \")\n",
    "    price = int(input(\"How much do yo wan to bid? \\n$\"))\n",
    "\n",
    "    #we pass it into the dictionary \n",
    "    bid[name] = price\n",
    "    bid_continue = input(\"Are there any other bidders? y or n \\n\")\n",
    "    if bid_continue == 'n':\n",
    "        bid_state = True\n",
    "        highest_bid(bid)\n",
    "        print(\"\\n Congratulations! Sponsored by Okey's NairaBet, Charles' Pant and Bra, Ebube's Tata.\")\n",
    "        \n",
    "    #elif bid_continue == \"y\":\n",
    "        \n",
    "\n",
    "\n",
    "\n"
   ]
  },
  {
   "cell_type": "markdown",
   "id": "df733aaf",
   "metadata": {},
   "source": [
    "###### "
   ]
  },
  {
   "cell_type": "code",
   "execution_count": null,
   "id": "e26141b8",
   "metadata": {},
   "outputs": [],
   "source": []
  }
 ],
 "metadata": {
  "kernelspec": {
   "display_name": "Python 3 (ipykernel)",
   "language": "python",
   "name": "python3"
  },
  "language_info": {
   "codemirror_mode": {
    "name": "ipython",
    "version": 3
   },
   "file_extension": ".py",
   "mimetype": "text/x-python",
   "name": "python",
   "nbconvert_exporter": "python",
   "pygments_lexer": "ipython3",
   "version": "3.9.13"
  }
 },
 "nbformat": 4,
 "nbformat_minor": 5
}
