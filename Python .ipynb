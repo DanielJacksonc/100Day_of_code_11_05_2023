{
 "cells": [
  {
   "cell_type": "markdown",
   "id": "e6e25808",
   "metadata": {},
   "source": [
    "#### Exercise: Python for loop\n",
    "    \n",
    "1. After flipping a coin 10 times you got this result,\n",
    "result = [\"heads\",\"tails\",\"tails\",\"heads\",\"tails\",\"heads\",\"heads\",\"tails\",\"tails\",\"tails\"]\n",
    "\n",
    "Using for loop figure out how many times you got heads\n",
    "\n",
    "2. Print square of all numbers between 1 to 10 except even numbers\n",
    "\n",
    "3. Your monthly expense list (from Jan to May) looks like this,\n",
    "expense_list = [2340, 2500, 2100, 3100, 2980]\n",
    "Write a program that asks you to enter an expense amount and program should tell you in which month that expense occurred. If expense is not found then it should print that as well.\n",
    "\n",
    "4. Lets say you are running a 5 km race. Write a program that,\n",
    "\n",
    "Upon completing each 1 km asks you \"are you tired?\"\n",
    "If you reply \"yes\" then it should break and print \"you didn't finish the race\"\n",
    "If you reply \"no\" then it should continue and ask \"are you tired\" on every km\n",
    "If you finish all 5 km then it should print congratulations message\n",
    "\n",
    "5. Write a program that prints following shape\n",
    "\n",
    " *\n",
    " **\n",
    " ***\n",
    "****\n",
    "*****"
   ]
  },
  {
   "cell_type": "code",
   "execution_count": 1,
   "id": "4795f116",
   "metadata": {},
   "outputs": [],
   "source": [
    "result = [\"heads\",\"tails\",\"tails\",\"heads\",\"tails\",\"heads\",\"heads\",\"tails\",\"tails\",\"tails\"]"
   ]
  },
  {
   "cell_type": "code",
   "execution_count": 2,
   "id": "b90141d7",
   "metadata": {},
   "outputs": [
    {
     "name": "stdout",
     "output_type": "stream",
     "text": [
      "the Heads count is : 4\n"
     ]
    }
   ],
   "source": [
    "count = 0\n",
    "\n",
    "for i in result:\n",
    "    if i  == 'heads':\n",
    "        \n",
    "        count +=1\n",
    "print(f'the Heads count is : {count}')\n",
    "           \n",
    "  \n",
    "        "
   ]
  },
  {
   "cell_type": "code",
   "execution_count": 3,
   "id": "64bbaaf8",
   "metadata": {},
   "outputs": [
    {
     "name": "stdout",
     "output_type": "stream",
     "text": [
      "1\n",
      "9\n",
      "25\n",
      "49\n",
      "81\n"
     ]
    }
   ],
   "source": [
    "for i in range (1, 10):\n",
    "    if i%2 == 0:\n",
    "        continue\n",
    "    else:\n",
    "        square = i**2\n",
    "        print(square)\n",
    "        "
   ]
  },
  {
   "cell_type": "code",
   "execution_count": 4,
   "id": "4c27eed3",
   "metadata": {},
   "outputs": [
    {
     "name": "stdout",
     "output_type": "stream",
     "text": [
      "please put your expenses: \n",
      "\n",
      "3456\n",
      "your chose 3456 and it's a wrong choice\n"
     ]
    }
   ],
   "source": [
    "expense_list = [2340, 2500, 2100, 3100, 2980]\n",
    "month = ['jan', 'feb', 'March', 'April', 'May']\n",
    "\n",
    "\n",
    "intercept = dict(zip(expense_list, month))\n",
    "\n",
    "user = int(input('please put your expenses: \\n\\n'))\n",
    "\n",
    "if user in intercept:\n",
    "    print(f'your month of spending is {intercept[user]} \\n\\n')\n",
    "else:\n",
    "    print(f'your chose {user} and it\\'s a wrong choice')"
   ]
  },
  {
   "cell_type": "code",
   "execution_count": 5,
   "id": "9c26156d",
   "metadata": {},
   "outputs": [
    {
     "name": "stdout",
     "output_type": "stream",
     "text": [
      "You ran for 1miles\n",
      "Are you tired of running? 35\n",
      "You ran for 2miles\n",
      "Are you tired of running? 45\n",
      "You ran for 3miles\n",
      "Are you tired of running? 46\n",
      "You ran for 4miles\n",
      "Are you tired of running? 46\n",
      "You ran for 5miles\n",
      "Are you tired of running? 46\n",
      "Wow, you ran 5 km and have completed the race\n"
     ]
    }
   ],
   "source": [
    "\n",
    "for i in range (5):\n",
    "    print(f'You ran for {i+1}miles')\n",
    "    quest = input('Are you tired of running? ').upper()\n",
    "    if quest == 'YES':\n",
    "        break\n",
    "if i == 4:\n",
    "    print('Wow, you ran 5 km and have completed the race')\n",
    "else:\n",
    "    print(f'You couldnt complete the race, your distance is {i+1}')\n",
    "        "
   ]
  },
  {
   "cell_type": "code",
   "execution_count": 6,
   "id": "52316217",
   "metadata": {},
   "outputs": [
    {
     "name": "stdout",
     "output_type": "stream",
     "text": [
      "*\n",
      "**\n",
      "***\n",
      "****\n",
      "*****\n",
      "******\n",
      "*******\n",
      "********\n",
      "*********\n"
     ]
    }
   ],
   "source": [
    "for i in range(1, 10):\n",
    "    for j in range(i):\n",
    "        print(\"*\",end='' )\n",
    "    print()"
   ]
  },
  {
   "cell_type": "code",
   "execution_count": null,
   "id": "277647ab",
   "metadata": {},
   "outputs": [],
   "source": []
  },
  {
   "cell_type": "code",
   "execution_count": 7,
   "id": "e5746b9e",
   "metadata": {},
   "outputs": [
    {
     "name": "stdout",
     "output_type": "stream",
     "text": [
      "*****\n",
      "****\n",
      "***\n",
      "**\n"
     ]
    }
   ],
   "source": [
    "for i in range (5, 1, -1):\n",
    "    for j in range (i):\n",
    "        print('*', end = '')\n",
    "    print()"
   ]
  },
  {
   "cell_type": "code",
   "execution_count": 17,
   "id": "7072fe6b",
   "metadata": {},
   "outputs": [
    {
     "name": "stdout",
     "output_type": "stream",
     "text": [
      "*\n",
      "**\n",
      "***\n",
      "****\n",
      "******\n",
      "*****\n",
      "****\n",
      "***\n",
      "**\n",
      "    *\n",
      "   **\n",
      "  ***\n",
      " ****\n",
      "*****\n"
     ]
    }
   ],
   "source": [
    "for i  in range (1, 5):\n",
    "    for j in range (i):\n",
    "        print('*', end = '')\n",
    "    print()\n",
    "for k in range (6, 1, -1):\n",
    "    for l in range (k):\n",
    "        print('*', end = '')\n",
    "    print()\n",
    "for i in range(1, 6):\n",
    "    for j in range(1, 6):\n",
    "        if j <= 5 - i:\n",
    "            print(\" \", end=\"\")\n",
    "        else:\n",
    "            print(\"*\", end=\"\")\n",
    "    print()"
   ]
  },
  {
   "cell_type": "markdown",
   "id": "7111bf75",
   "metadata": {},
   "source": [
    "Write a function called print_pattern that takes integer number as an argument and prints following pattern if input number is 3,\n",
    "\n",
    "*\n",
    "**\n",
    "***"
   ]
  },
  {
   "cell_type": "code",
   "execution_count": 45,
   "id": "f8cb4457",
   "metadata": {},
   "outputs": [
    {
     "name": "stdout",
     "output_type": "stream",
     "text": [
      "\n",
      "\n",
      "\n",
      "*\n",
      "**\n",
      "***\n",
      "****\n",
      "\n"
     ]
    }
   ],
   "source": [
    "def print_pattern(*n):\n",
    "    for i in n:\n",
    "        for j in range (i +1 -1 ):\n",
    "            print('*' * j)\n",
    "        print()\n",
    "print_pattern(1, 5)"
   ]
  },
  {
   "cell_type": "code",
   "execution_count": null,
   "id": "fc738346",
   "metadata": {},
   "outputs": [],
   "source": []
  }
 ],
 "metadata": {
  "kernelspec": {
   "display_name": "Python 3 (ipykernel)",
   "language": "python",
   "name": "python3"
  },
  "language_info": {
   "codemirror_mode": {
    "name": "ipython",
    "version": 3
   },
   "file_extension": ".py",
   "mimetype": "text/x-python",
   "name": "python",
   "nbconvert_exporter": "python",
   "pygments_lexer": "ipython3",
   "version": "3.9.13"
  }
 },
 "nbformat": 4,
 "nbformat_minor": 5
}
