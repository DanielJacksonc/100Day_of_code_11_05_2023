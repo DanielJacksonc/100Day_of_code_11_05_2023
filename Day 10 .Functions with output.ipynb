{
 "cells": [
  {
   "cell_type": "code",
   "execution_count": 1,
   "id": "01626eaa",
   "metadata": {},
   "outputs": [
    {
     "name": "stdout",
     "output_type": "stream",
     "text": [
      "input first nameert\n",
      "input last nameerty\n"
     ]
    },
    {
     "data": {
      "text/plain": [
       "'ErtErty'"
      ]
     },
     "execution_count": 1,
     "metadata": {},
     "output_type": "execute_result"
    }
   ],
   "source": [
    "def format_name():\n",
    "    \n",
    "    \"\"\" this function takes two names, converts them to first \n",
    "    word capital letter and give the outpout. i am making \n",
    "        this statement as a way to remeber\"\"\"\n",
    "    f_name = input(\"input first name\").title()\n",
    "    l_name = input(\"input last name\").title()\n",
    "    full_name = f_name + l_name\n",
    "    return full_name\n",
    "  \n",
    "result = format_name()\n",
    "result"
   ]
  },
  {
   "cell_type": "code",
   "execution_count": 2,
   "id": "536e3ac7",
   "metadata": {},
   "outputs": [],
   "source": [
    "## Doctsrings are ways we create documentation as we work witg our function. you use \"\"\" oiuoiuoiuoiupoiup\"\"\""
   ]
  },
  {
   "cell_type": "markdown",
   "id": "06bf7ba3",
   "metadata": {},
   "source": [
    "## Calculator\n",
    "We want to create a simple calculator that calculates from users inputs, and then ask them if they want to continue"
   ]
  },
  {
   "cell_type": "code",
   "execution_count": 8,
   "id": "bff57938",
   "metadata": {},
   "outputs": [
    {
     "name": "stdout",
     "output_type": "stream",
     "text": [
      "What is your first number? :5\n",
      "+  -  /  *  Pick operation symbo from the above: *\n",
      "What is your second number? :7\n",
      "5 * 7 = 35\n"
     ]
    }
   ],
   "source": [
    "#1 we define a function for each operation \n",
    "def add(n1, n2):\n",
    "    return n1 + n2\n",
    "\n",
    "def subtract(n1, n2):\n",
    "    return n1 - n2\n",
    "\n",
    "def divide(n1, n2):\n",
    "    return n1 / n2\n",
    "\n",
    "def multiply(n1, n2):\n",
    "    return n1 * n2\n",
    "\n",
    "#2 create a dictionary where the operations are the keys   and values are the function names\n",
    "\n",
    "operations = {\n",
    "    \"+\":add,\n",
    "    \"-\":subtract,\n",
    "    \"/\": divide,\n",
    "    \"*\": multiply,\n",
    "        \n",
    "}\n",
    "\n",
    "#3 have to take an input of operation from our user\n",
    "num1 = int(input(\"What is your first number? :\"))\n",
    "for keys in operations:\n",
    "    print(keys, end = \"  \")\n",
    "\n",
    "#we ask the user to choose and operation symbol from above\n",
    "operation_symbol = input(\"Pick operation symbo from the above: \")\n",
    "num2 = int(input(\"What is your second number? :\"))\n",
    "\n",
    "#4 we want to ask the for operations they want to do from the dictionary using a for loop.\n",
    "\n",
    "\n",
    "\n",
    "calculation_function = operations[operation_symbol]\n",
    "answer = calculation_function(num1, num2)\n",
    "    \n",
    "    \n",
    "\n",
    "print(f\"{num1} {operation_symbol} {num2} = {answer}\")\n"
   ]
  },
  {
   "cell_type": "code",
   "execution_count": null,
   "id": "7944b20b",
   "metadata": {},
   "outputs": [],
   "source": [
    "  \n",
    "#1 we define a function for each operation \n",
    "def add(n1, n2):\n",
    "    return n1 + n2\n",
    "\n",
    "def subtract(n1, n2):\n",
    "    return n1 - n2\n",
    "\n",
    "def divide(n1, n2):\n",
    "    return n1 / n2\n",
    "\n",
    "def multiply(n1, n2):\n",
    "    return n1 * n2\n",
    "\n",
    "#2 create a dictionary where the operations are the keys   and values are the function names\n",
    "\n",
    "operations = {\n",
    "    \"+\":add,\n",
    "    \"-\":subtract,\n",
    "    \"/\": divide,\n",
    "    \"*\": multiply,\n",
    "\n",
    "}\n",
    "def calculator():#6  we  started recursion here \n",
    "    #3 have to take an input of operation from our user\n",
    "    num1 = float(input(\"What is your first number? :\"))\n",
    "    calculation_cont = True\n",
    "    while calculation_cont:\n",
    "        for keys in operations:\n",
    "            print(keys, end = \"  \")\n",
    "\n",
    "\n",
    "        #we ask the user to choose and operation symbol from above\n",
    "        operation_symbol = input(\"Pick operation symbol from the above: \")\n",
    "        num2 = float(input(\"What is your next number? :\"))\n",
    "\n",
    "        #4 we want to ask the for operations they want to do from the dictionary using a for loop.\n",
    "\n",
    "\n",
    "\n",
    "        calculation_function = operations[operation_symbol]\n",
    "        answer = calculation_function(num1, num2)\n",
    "\n",
    "\n",
    "\n",
    "        print(f\"{num1} {operation_symbol} {num2} = {answer}\")\n",
    "\n",
    "        #5 ask the user if they want to continue\n",
    "        cont_calc = input(\"Do you want to perform another operation? Choose Yes or No to exit or type B to start a fresh calculation:  \")\n",
    "        if cont_calc.lower() == \"no\":\n",
    "            calculation_cont = False\n",
    "            print(f\"Your answer is {answer}\")\n",
    "        elif cont_calc.lower() == \"b\":\n",
    "            calculator()#6  we  started recursion here \n",
    "\n",
    "        else:\n",
    "\n",
    "            num1 = answer\n",
    "calculator()#6  we  started recursion here \n",
    "    "
   ]
  }
 ],
 "metadata": {
  "kernelspec": {
   "display_name": "Python 3 (ipykernel)",
   "language": "python",
   "name": "python3"
  },
  "language_info": {
   "codemirror_mode": {
    "name": "ipython",
    "version": 3
   },
   "file_extension": ".py",
   "mimetype": "text/x-python",
   "name": "python",
   "nbconvert_exporter": "python",
   "pygments_lexer": "ipython3",
   "version": "3.9.13"
  }
 },
 "nbformat": 4,
 "nbformat_minor": 5
}
