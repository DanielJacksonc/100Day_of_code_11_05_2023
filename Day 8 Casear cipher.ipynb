{
 "cells": [
  {
   "cell_type": "code",
   "execution_count": 1,
   "id": "a1f8c015",
   "metadata": {},
   "outputs": [
    {
     "name": "stdout",
     "output_type": "stream",
     "text": [
      "hello daniel\n",
      "how do you do ?\n"
     ]
    }
   ],
   "source": [
    "def greet(n):\n",
    "    print(f'hello {n}')\n",
    "    print('how do you do ?')\n",
    "    \n",
    "greet('daniel')"
   ]
  },
  {
   "cell_type": "code",
   "execution_count": 2,
   "id": "018a95ac",
   "metadata": {},
   "outputs": [
    {
     "name": "stdout",
     "output_type": "stream",
     "text": [
      "Hello Daniel\n",
      "is your age 12\n"
     ]
    }
   ],
   "source": [
    "#FUNSTIONS WITH MORE THAN ONE INPUT\n",
    "\n",
    "def greet(name, age):\n",
    "    print(f'Hello {name}')\n",
    "    print(f'is your age {age}')\n",
    "    \n",
    "greet('Daniel', 12)\n",
    "    "
   ]
  },
  {
   "cell_type": "code",
   "execution_count": 3,
   "id": "eccab1ad",
   "metadata": {},
   "outputs": [
    {
     "name": "stdout",
     "output_type": "stream",
     "text": [
      "Hello Daniel\n",
      "is your age 12\n"
     ]
    }
   ],
   "source": [
    "#using a keyword argument\n",
    "\n",
    "def greet(name, age):\n",
    "    print(f'Hello {name}')\n",
    "    print(f'is your age {age}')\n",
    "    \n",
    "greet(name = 'Daniel',age =  12)\n"
   ]
  },
  {
   "cell_type": "code",
   "execution_count": 4,
   "id": "3f95750e",
   "metadata": {},
   "outputs": [
    {
     "name": "stdout",
     "output_type": "stream",
     "text": [
      "provide number34\n",
      "this is a prime number\n"
     ]
    },
    {
     "data": {
      "text/plain": [
       "34"
      ]
     },
     "execution_count": 4,
     "metadata": {},
     "output_type": "execute_result"
    }
   ],
   "source": [
    "#prime number\n",
    "\n",
    "def prime_checker():\n",
    "    n = int(input(\"provide number\"))\n",
    "    if n%n ==0:\n",
    "        print('this is a prime number')\n",
    "        return n\n",
    "prime_checker()\n"
   ]
  },
  {
   "cell_type": "code",
   "execution_count": 5,
   "id": "4aaa46de",
   "metadata": {},
   "outputs": [
    {
     "data": {
      "text/plain": [
       "[4]"
      ]
     },
     "execution_count": 5,
     "metadata": {},
     "output_type": "execute_result"
    }
   ],
   "source": [
    "a = [\"foo\",\"bar\",\"baz\",'bar','any','much']\n",
    "\n",
    "indexes = [i for i in range(len(a)) if a[i] == 'any']\n",
    "indexes"
   ]
  },
  {
   "cell_type": "code",
   "execution_count": 6,
   "id": "ad373599",
   "metadata": {},
   "outputs": [],
   "source": [
    "b = [2,3,5,6,7,8]\n",
    "c = ['a','b', 'c', 'd','e']"
   ]
  },
  {
   "cell_type": "code",
   "execution_count": 7,
   "id": "871bd9a0",
   "metadata": {},
   "outputs": [
    {
     "data": {
      "text/plain": [
       "[1, 2, 3, 4, 5, 6]"
      ]
     },
     "execution_count": 7,
     "metadata": {},
     "output_type": "execute_result"
    }
   ],
   "source": [
    "da = [3,6,8,9,7,5,6]\n",
    "    \n",
    "plan = [i for i in (range(len(da))) if i >= 1 ]\n",
    "plan"
   ]
  },
  {
   "cell_type": "code",
   "execution_count": 8,
   "id": "739872c5",
   "metadata": {},
   "outputs": [
    {
     "name": "stdout",
     "output_type": "stream",
     "text": [
      "Type 'encode' to encrypt, type 'decode' to decrypt:\n",
      "e\n",
      "Type your message:\n",
      "fgh\n",
      "Type the shift number:\n",
      "5\n"
     ]
    }
   ],
   "source": [
    "alphabet = ['a', 'b', 'c',  'd', 'e', 'f', 'g', 'h', 'i', 'j', 'k', 'l', 'm', 'n', 'o', 'p', 'q', 'r', 's', 't', 'u', 'v', 'w', 'x', 'y', 'z', 'a', 'b', 'c', 'd', 'e', 'f', 'g', 'h', 'i', 'j', 'k', 'l', 'm', 'n', 'o', 'p', 'q', 'r', 's', 't', 'u', 'v', 'w', 'x', 'y', 'z']\n",
    "\n",
    "direction = input(\"Type 'encode' to encrypt, type 'decode' to decrypt:\\n\")\n",
    "text = input(\"Type your message:\\n\").lower()\n",
    "shift = int(input(\"Type the shift number:\\n\"))\n",
    "\n",
    "#TODO-1: Combine the encrypt() and decrypt() functions into a single function called caesar(). \n",
    "\n",
    "def encrypt(plain_text, shift_amount):\n",
    "  cipher_text = \"\"\n",
    "  for letter in plain_text:\n",
    "    position = alphabet.index(letter)\n",
    "    new_position = position + shift_amount\n",
    "    cipher_text += alphabet[new_position]\n",
    "  print(f\"The encoded text is {cipher_text}\")\n",
    "\n",
    "def decrypt(cipher_text, shift_amount):\n",
    "  plain_text = \"\"\n",
    "  for letter in cipher_text:\n",
    "    position = alphabet.index(letter)\n",
    "    new_position = position - shift_amount\n",
    "    plain_text += alphabet[new_position]\n",
    "  print(f\"The decoded text is {plain_text}\")\n",
    "\n",
    "if direction == \"encode\":\n",
    "  encrypt(plain_text=text, shift_amount=shift)\n",
    "elif direction == \"decode\":\n",
    "  decrypt(cipher_text=text, shift_amount=shift)\n",
    "\n",
    "#TODO-2: Call the caesar() function, passing over the 'text', 'shift' and 'direction' values."
   ]
  },
  {
   "cell_type": "markdown",
   "id": "7ad3a0d5",
   "metadata": {},
   "source": [
    "## or"
   ]
  },
  {
   "cell_type": "code",
   "execution_count": 11,
   "id": "7f5780f8",
   "metadata": {},
   "outputs": [
    {
     "name": "stdout",
     "output_type": "stream",
     "text": [
      "Type 'encode' to encrypt, type 'decode' to decrypt:\n",
      "decode\n",
      "Type your message:\n",
      "g emir\n",
      "Type the shift number:\n",
      "56\n",
      "dabien\n"
     ]
    }
   ],
   "source": [
    "alphabet = ['a', 'b', 'c', 'd', ' ' ,'e', 'f', 'g', 'h', 'i', 'j', 'k', 'l', 'm', 'n', 'o', 'p', 'q', 'r', 's', 't', 'u', 'v', 'w', 'x', 'y', 'z', 'a', 'b', 'c', 'd', 'e', 'f', 'g', 'h', 'i', 'j', 'k', 'l', 'm', 'n', 'o', 'p', 'q', 'r', 's', 't', 'u', 'v', 'w', 'x', 'y', 'z']\n",
    "\n",
    "direction = input(\"Type 'encode' to encrypt, type 'decode' to decrypt:\\n\")\n",
    "text = input(\"Type your message:\\n\").lower()\n",
    "shift = int(input(\"Type the shift number:\\n\"))\n",
    "\n",
    "def ciphar(ciph_text, shift_amount, ciph_direction):\n",
    "    ciph_holder = ''\n",
    "    for  i in ciph_text:\n",
    "        position = alphabet.index(i)\n",
    "        if direction == 'encode':\n",
    "            new_position = position+shift_amount\n",
    "            word = alphabet[new_position]\n",
    "            ciph_holder = ciph_holder+word\n",
    "            \n",
    "            \n",
    "        else:\n",
    "            new_position = position -shift_amount\n",
    "            word = alphabet[new_position]\n",
    "            ciph_holder = ciph_holder+word\n",
    "            \n",
    "    print(ciph_holder)\n",
    "shift = shift % 26 ####this line makes sure that there is no amount of input that will be out of range1\n",
    "\n",
    "ciphar(ciph_text = text, shift_amount = shift, ciph_direction=direction)"
   ]
  },
  {
   "cell_type": "markdown",
   "id": "1b9e3a78",
   "metadata": {},
   "source": [
    "##### "
   ]
  },
  {
   "cell_type": "code",
   "execution_count": null,
   "id": "b2f0c642",
   "metadata": {},
   "outputs": [],
   "source": [
    "alphabet = ['a', 'b', 'c', 'd', 'e', 'f', 'g', 'h', 'i', 'j', 'k', 'l', 'm', 'n', 'o', 'p', 'q', 'r', 's', 't', 'u', 'v', 'w', 'x', 'y', 'z', 'a', 'b', 'c', 'd', 'e', 'f', 'g', 'h', 'i', 'j', 'k', 'l', 'm', 'n', 'o', 'p', 'q', 'r', 's', 't', 'u', 'v', 'w', 'x', 'y', 'z']\n",
    "\n",
    "def caesar(start_text, shift_amount, cipher_direction):\n",
    "  end_text = \"\"\n",
    "  if cipher_direction == \"decode\":\n",
    "    shift_amount *= -1\n",
    "  for char in start_text:\n",
    "    #TODO-3: What happens if the user enters a number/symbol/space?\n",
    "    #Can you fix the code to keep the number/symbol/space when the text is encoded/decoded?\n",
    "    #e.g. start_text = \"meet me at 3\"\n",
    "    #end_text = \"•••• •• •• 3\"\n",
    "    position = alphabet.index(char)\n",
    "    new_position = position + shift_amount\n",
    "    end_text += alphabet[new_position]\n",
    "    \n",
    "  print(f\"Here's the {cipher_direction}d result: {end_text}\")\n",
    "\n",
    "#TODO-1: Import and print the logo from art.py when the program starts.\n",
    "\n",
    "\n",
    "\n",
    "\n",
    "#TODO-4: Can you figure out a way to ask the user if they want to restart the cipher program?\n",
    "#e.g. Type 'yes' if you want to go again. Otherwise type 'no'.\n",
    "#If they type 'yes' then ask them for the direction/text/shift again and call the caesar() function again?\n",
    "#Hint: Try creating a while loop that continues to execute the program if the user types 'yes'. \n",
    "\n",
    "direction = input(\"Type 'encode' to encrypt, type 'decode' to decrypt:\\n\")\n",
    "text = input(\"Type your message:\\n\").lower()\n",
    "shift = int(input(\"Type the shift number:\\n\"))\n",
    "\n",
    "#TODO-2: What if the user enters a shift that is greater than the number of letters in the alphabet?\n",
    "\n",
    "shift = shift %  26\n",
    "#Try running the program and entering a shift number of 45.\n",
    "#Add some code so that the program continues to work even if the user enters a shift number greater than 26. \n",
    "#Hint: Think about how you can use the modulus (%).\n",
    "\n",
    "caesar(start_text=text, shift_amount=shift, cipher_direction=direction)"
   ]
  },
  {
   "cell_type": "code",
   "execution_count": null,
   "id": "6f5a031e",
   "metadata": {},
   "outputs": [],
   "source": []
  },
  {
   "cell_type": "code",
   "execution_count": null,
   "id": "23db4d7e",
   "metadata": {},
   "outputs": [],
   "source": []
  }
 ],
 "metadata": {
  "kernelspec": {
   "display_name": "Python 3 (ipykernel)",
   "language": "python",
   "name": "python3"
  },
  "language_info": {
   "codemirror_mode": {
    "name": "ipython",
    "version": 3
   },
   "file_extension": ".py",
   "mimetype": "text/x-python",
   "name": "python",
   "nbconvert_exporter": "python",
   "pygments_lexer": "ipython3",
   "version": "3.9.13"
  }
 },
 "nbformat": 4,
 "nbformat_minor": 5
}
